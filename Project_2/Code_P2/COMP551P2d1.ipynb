{
  "nbformat": 4,
  "nbformat_minor": 0,
  "metadata": {
    "colab": {
      "name": "COMP551P2d1.ipynb",
      "provenance": [],
      "collapsed_sections": [],
      "toc_visible": true
    },
    "kernelspec": {
      "display_name": "Python 3",
      "name": "python3"
    }
  },
  "cells": [
    {
      "cell_type": "markdown",
      "metadata": {
        "id": "bUMJGOP19kgC"
      },
      "source": [
        "# COMP 551 P2 D1\n",
        "https://scikit-learn.org/stable/datasets/real_world.html#newsgroups-dataset"
      ]
    },
    {
      "cell_type": "markdown",
      "metadata": {
        "id": "DY1MyV9O_JeA"
      },
      "source": [
        "## Data cleaning"
      ]
    },
    {
      "cell_type": "code",
      "metadata": {
        "id": "8vwy-UOZ6p4V"
      },
      "source": [
        "import numpy as np\n",
        "import re\n",
        "from sklearn.datasets import fetch_20newsgroups\n",
        "from sklearn.feature_extraction.text import CountVectorizer\n",
        "from sklearn.feature_extraction.text import TfidfTransformer\n",
        "from sklearn.linear_model import LogisticRegression"
      ],
      "execution_count": 2,
      "outputs": []
    },
    {
      "cell_type": "code",
      "metadata": {
        "colab": {
          "base_uri": "https://localhost:8080/"
        },
        "id": "xtMNiB829gLn",
        "outputId": "edb23b0d-b93f-4b77-ee36-5a0680d9ff26"
      },
      "source": [
        "newsgroups_train = fetch_20newsgroups(subset='train', remove=['headers', 'footers', 'quotes'])\n",
        "newsgroups_train.target.shape"
      ],
      "execution_count": 3,
      "outputs": [
        {
          "output_type": "stream",
          "text": [
            "Downloading 20news dataset. This may take a few minutes.\n",
            "Downloading dataset from https://ndownloader.figshare.com/files/5975967 (14 MB)\n"
          ],
          "name": "stderr"
        },
        {
          "output_type": "execute_result",
          "data": {
            "text/plain": [
              "(11314,)"
            ]
          },
          "metadata": {
            "tags": []
          },
          "execution_count": 3
        }
      ]
    },
    {
      "cell_type": "code",
      "metadata": {
        "id": "mO61dsz7503S"
      },
      "source": [
        "delchars = ''.join(c for c in map(chr, range(256)) if not c.isalpha())\n",
        "delchars = ''.join(ch for ch in delchars if ch !=' ')\n",
        "def clean_text(paragraph):\n",
        "    output = re.sub('\\<.*?\\>','', paragraph) #delete tags (between <..>)\n",
        "    output = re.sub('\\@.*?\\s','', output) #delete usernames (words following @)\n",
        "    output = re.sub('\\n','', output) #delete anything following a slash\n",
        "    output = output.translate(str.maketrans('','',delchars))\n",
        "    output = output.strip()\n",
        "    return output\n",
        "\n",
        "newsgroups_train.data = list(map(lambda x: clean_text(x), newsgroups_train.data))\n",
        "remove_index = []\n",
        "data = []\n",
        "for i, x in enumerate(newsgroups_train.data):\n",
        "    if (x == \"\"):\n",
        "        remove_index.append(i)\n",
        "    else:\n",
        "        data.append(x)\n",
        "newsgroups_train.data = data"
      ],
      "execution_count": 4,
      "outputs": []
    },
    {
      "cell_type": "code",
      "metadata": {
        "colab": {
          "base_uri": "https://localhost:8080/"
        },
        "id": "c3YsaPW9-WIG",
        "outputId": "b0bc94f3-bf1b-4599-9d1b-620aae99f871"
      },
      "source": [
        "count_vect = CountVectorizer()\n",
        "X_train_counts = count_vect.fit_transform(newsgroups_train.data)\n",
        "tfidf_transformer = TfidfTransformer()\n",
        "X_train_tfidf = tfidf_transformer.fit_transform(X_train_counts)\n",
        "x_train = X_train_tfidf\n",
        "x_train.shape"
      ],
      "execution_count": 5,
      "outputs": [
        {
          "output_type": "execute_result",
          "data": {
            "text/plain": [
              "(11003, 154809)"
            ]
          },
          "metadata": {
            "tags": []
          },
          "execution_count": 5
        }
      ]
    },
    {
      "cell_type": "code",
      "metadata": {
        "colab": {
          "base_uri": "https://localhost:8080/"
        },
        "id": "d3H_-5Qp-UKx",
        "outputId": "1aeb803b-37c7-45e5-e930-88ab2c37ec4a"
      },
      "source": [
        "target = []\n",
        "for i in range(len(newsgroups_train.target)): \n",
        "    if i not in remove_index:\n",
        "        target.append(newsgroups_train.target[i])\n",
        "y_train = target\n",
        "len(y_train)"
      ],
      "execution_count": 6,
      "outputs": [
        {
          "output_type": "execute_result",
          "data": {
            "text/plain": [
              "11003"
            ]
          },
          "metadata": {
            "tags": []
          },
          "execution_count": 6
        }
      ]
    },
    {
      "cell_type": "code",
      "metadata": {
        "colab": {
          "base_uri": "https://localhost:8080/"
        },
        "id": "bNIp_xDBhrhE",
        "outputId": "d3bc8007-13be-400f-bf2b-cd4e2bfb10af"
      },
      "source": [
        "newsgroups_test = fetch_20newsgroups(subset='test', remove=['headers', 'footers', 'quotes'])\n",
        "X_new_counts = count_vect.transform(newsgroups_test.data)\n",
        "x_test = tfidf_transformer.transform(X_new_counts)\n",
        "x_test.shape"
      ],
      "execution_count": 7,
      "outputs": [
        {
          "output_type": "execute_result",
          "data": {
            "text/plain": [
              "(7532, 154809)"
            ]
          },
          "metadata": {
            "tags": []
          },
          "execution_count": 7
        }
      ]
    },
    {
      "cell_type": "code",
      "metadata": {
        "colab": {
          "base_uri": "https://localhost:8080/"
        },
        "id": "0iRSWaHEjve1",
        "outputId": "bf50071f-70ab-4975-dcb7-b8c119ec2943"
      },
      "source": [
        "y_test = newsgroups_test.target\n",
        "y_test.shape"
      ],
      "execution_count": 8,
      "outputs": [
        {
          "output_type": "execute_result",
          "data": {
            "text/plain": [
              "(7532,)"
            ]
          },
          "metadata": {
            "tags": []
          },
          "execution_count": 8
        }
      ]
    },
    {
      "cell_type": "markdown",
      "metadata": {
        "id": "NIf2Ik-vJjft"
      },
      "source": [
        "## Naive Bayes Implementation"
      ]
    },
    {
      "cell_type": "code",
      "metadata": {
        "id": "7PfQu2IsJ7js"
      },
      "source": [
        "import itertools\n",
        "%matplotlib inline\n",
        "import matplotlib.pyplot as plt\n",
        "np.random.seed(1234)"
      ],
      "execution_count": 9,
      "outputs": []
    },
    {
      "cell_type": "code",
      "metadata": {
        "id": "t5WDmb3dJpGY"
      },
      "source": [
        "class MultinomialNaiveBayes:\n",
        "  def __init__(self, alpha=1):\n",
        "    self.alpha = alpha \n",
        "\n",
        "  def fit(self, X_train, y_train):\n",
        "      m, n = X_train.shape\n",
        "      self._classes = np.unique(y_train)\n",
        "      n_classes = len(self._classes)\n",
        "\n",
        "    # init: Prior & Likelihood\n",
        "      self._priors = np.zeros(n_classes)\n",
        "      self._likelyhoods = np.zeros((n_classes, n))\n",
        "\n",
        "    # Get Prior and Likelihood\n",
        "      for idx, c in enumerate(self._classes):\n",
        "          X_train_c = X_train[c == y_train]\n",
        "          self._priors[idx] = X_train_c.shape[0] / m \n",
        "          self._likelyhoods[idx, :] = ((X_train_c.sum(axis=0)) + self.alpha) / (np.sum(X_train_c.sum(axis=0) + self.alpha))\n",
        "\n",
        "\n",
        "  def predict(self, X_test):\n",
        "      return [self._predict(x_test) for x_test in X_test]\n",
        "\n",
        "  def _predict(self, x_test):\n",
        "      #Calculate posterior for each class\n",
        "      posteriors = []\n",
        "      for idx, c in enumerate(self._classes):\n",
        "          prior_c = np.log(self._priors[idx])\n",
        "          likelyhoods_c = self.calc_likelyhood(self._likelyhoods[idx,:], x_test.toarray())\n",
        "\n",
        "          posteriors_c = np.sum(likelyhoods_c) + prior_c\n",
        "          posteriors.append(posteriors_c)\n",
        "      #print(self._classes[np.argmax(posteriors)])\n",
        "      return self._classes[np.argmax(posteriors)]\n",
        "\n",
        "  def calc_likelyhood(self, cls_likely, x_test):\n",
        "      return np.log(cls_likely) * x_test\n",
        "\n",
        "  def score(self, X_test, y_test):\n",
        "      y_pred = self.predict(X_test)\n",
        "      return np.sum(y_pred == y_test)/len(y_test)\n"
      ],
      "execution_count": 10,
      "outputs": []
    },
    {
      "cell_type": "markdown",
      "metadata": {
        "id": "tTfPtmpokJqI"
      },
      "source": [
        "### Cross Validation"
      ]
    },
    {
      "cell_type": "code",
      "metadata": {
        "id": "8mpMq71qkM95"
      },
      "source": [
        "def evaluate_acc(actual, pred):\n",
        "    correct = 0\n",
        "    for i in range(len(actual)):\n",
        "        if actual[i] == pred[i]: correct += 1\n",
        "    return correct / len(actual)\n",
        "\n",
        "\n",
        "def cross_validation_split(n, n_folds=10):\n",
        "    #get the number of data samples in each split\n",
        "    n_val = n // n_folds\n",
        "    inds = np.random.permutation(n)\n",
        "    inds = []\n",
        "    for f in range(n_folds):\n",
        "        tr_inds = []\n",
        "        #get the validation indexes\n",
        "        val_inds = list(range(f * n_val, (f+1)*n_val))\n",
        "        #get the train indexes\n",
        "        if f > 0:\n",
        "            tr_inds = list(range(f*n_val))\n",
        "        if f < n_folds - 1:\n",
        "            tr_inds = tr_inds + list(range((f+1)*n_val, n))\n",
        "        #The yield statement suspends function’s execution and sends a value back to the caller\n",
        "        #but retains enough state information to enable function to resume where it is left off\n",
        "        yield tr_inds, val_inds\n",
        "\n",
        "\n",
        "n_train = x_train.shape[0]\n",
        "num_folds = 5\n",
        "acc_val = np.zeros(num_folds)\n",
        "def kfoldCV(a):\n",
        "    for f, (tr, val) in enumerate(cross_validation_split(n_train, num_folds)):\n",
        "        model = MultinomialNaiveBayes(alpha=a)\n",
        "        model.fit(X_train=x_train.tocsr()[tr,:], y_train=np.array(y_train)[tr])\n",
        "        y_prob = model.predict(x_train.tocsr()[val,:])\n",
        "        # print(evaluate_acc(np.array(y_train)[val], y_prob))\n",
        "        acc_val[f] = evaluate_acc(np.array(y_train)[val], y_prob)\n",
        "    return acc_val\n",
        "\n",
        "\n",
        "alphas = [0.1, 0.3, 0.5, 0.7, 0.9]\n",
        "res = []\n",
        "for a in alphas:\n",
        "    b = kfoldCV(a)\n",
        "    # print(b)\n",
        "    res.append(list(b)[:])"
      ],
      "execution_count": null,
      "outputs": []
    },
    {
      "cell_type": "code",
      "metadata": {
        "colab": {
          "base_uri": "https://localhost:8080/",
          "height": 279
        },
        "id": "J9be62YDwE-i",
        "outputId": "3fab9ac5-b9de-41c8-e9dd-d5a9526473df"
      },
      "source": [
        "plt.errorbar(alphas, np.mean(res, axis=1), np.std(res, axis=1), label='validation')\n",
        "plt.legend()\n",
        "plt.xlabel('alpha')\n",
        "plt.ylabel('validation set accuracy')\n",
        "plt.show()"
      ],
      "execution_count": null,
      "outputs": [
        {
          "output_type": "display_data",
          "data": {
            "image/png": "[encoded data removed]",
            "text/plain": [
              "<Figure size 432x288 with 1 Axes>"
            ]
          },
          "metadata": {
            "tags": []
          }
        }
      ]
    },
    {
      "cell_type": "markdown",
      "metadata": {
        "id": "df36I392k6MC"
      },
      "source": [
        "### Test Accuracy for NB"
      ]
    },
    {
      "cell_type": "code",
      "metadata": {
        "colab": {
          "base_uri": "https://localhost:8080/"
        },
        "id": "abBBpzyUkRPT",
        "outputId": "bcc59642-aee0-4870-b230-5ae3c5655943"
      },
      "source": [
        "def evaluate_acc(actual, pred):\n",
        "    correct = 0\n",
        "    for i in range(len(actual)):\n",
        "        if actual[i] == pred[i]: correct += 1\n",
        "    return correct / len(actual)\n",
        "    \n",
        "def evaluate_acc_test():\n",
        "    model = MultinomialNaiveBayes(alpha=0.1)\n",
        "    model.fit(X_train=x_train, y_train = y_train)\n",
        "    y_prob = model.predict(x_test)\n",
        "    y_pred = y_prob\n",
        "    accuracy = evaluate_acc(y_pred, y_test)\n",
        "    print(f'test accuracy: {accuracy}')\n",
        "\n",
        "\n",
        "evaluate_acc_test()"
      ],
      "execution_count": 11,
      "outputs": [
        {
          "output_type": "stream",
          "text": [
            "test accuracy: 0.6607806691449815\n"
          ],
          "name": "stdout"
        }
      ]
    },
    {
      "cell_type": "markdown",
      "metadata": {
        "id": "AhdsSM0ZcwFp"
      },
      "source": [
        "## Logistic Regression\n"
      ]
    },
    {
      "cell_type": "code",
      "metadata": {
        "id": "0nhtmIi8Ci90"
      },
      "source": [
        "def logistic(t):\n",
        "    n = x_train.shape[0]\n",
        "    n *= 0.8 # number for train, remaining for validation\n",
        "    n = int(n)\n",
        "    clf = LogisticRegression(tol=t).fit(x_train.tocsr()[range(0,n),:], np.array(y_train)[range(0,n)])\n",
        "    res = clf.predict(x_train.tocsr()[range(n,x_train.shape[0]-1),:])\n",
        "    return evaluate_acc(np.array(y_train)[range(n,x_train.shape[0]-1)], res)"
      ],
      "execution_count": 12,
      "outputs": []
    },
    {
      "cell_type": "code",
      "metadata": {
        "colab": {
          "base_uri": "https://localhost:8080/"
        },
        "id": "Y4535nT014KF",
        "outputId": "49c8e85b-67d1-4111-d0c5-79db8db2c5ee"
      },
      "source": [
        "tols = [0.001, 0.01, 0.1, 1, 10, 100]\n",
        "acc_log = []\n",
        "for t in tols:\n",
        "    acc_log.append(logistic(t))\n",
        "print(acc_log)"
      ],
      "execution_count": 13,
      "outputs": [
        {
          "output_type": "stream",
          "text": [
            "[0.6845454545454546, 0.6845454545454546, 0.6845454545454546, 0.6845454545454546, 0.6836363636363636, 0.07681818181818181]\n"
          ],
          "name": "stdout"
        }
      ]
    },
    {
      "cell_type": "code",
      "metadata": {
        "id": "VtyfSFfA3iK9",
        "colab": {
          "base_uri": "https://localhost:8080/"
        },
        "outputId": "c2ff32d4-dcc0-438e-8742-02a14f9b2e9a"
      },
      "source": [
        "def logistic_test_set():\n",
        "    clf = LogisticRegression(tol=0.001).fit(x_train, y_train)\n",
        "    res = clf.predict(x_test)\n",
        "    return evaluate_acc(y_test, res)\n",
        "\n",
        "\n",
        "logistic_test_set()"
      ],
      "execution_count": 14,
      "outputs": [
        {
          "output_type": "execute_result",
          "data": {
            "text/plain": [
              "0.6463090812533192"
            ]
          },
          "metadata": {
            "tags": []
          },
          "execution_count": 14
        }
      ]
    },
    {
      "cell_type": "markdown",
      "metadata": {
        "id": "qnBbaEViy_zm"
      },
      "source": [
        "## Task 3.3"
      ]
    },
    {
      "cell_type": "code",
      "metadata": {
        "id": "Ny_zZ62ZsvDr"
      },
      "source": [
        "def evaluate_acc_with_diff_train(percent):\n",
        "    N = x_train.shape[0]\n",
        "    inds = np.random.permutation(N)\n",
        "    inds = inds[:int(N*percent)]\n",
        "    model = MultinomialNaiveBayes(alpha=0.1)\n",
        "    model.fit(X_train = x_train.tocsr()[inds,:], y_train = np.array(y_train)[inds])\n",
        "    y_prob = model.predict(x_test)\n",
        "    y_pred = y_prob\n",
        "    accuracy = evaluate_acc(y_pred, y_test)\n",
        "    # print(f'test accuracy: {accuracy}')\n",
        "    return accuracy\n",
        "\n",
        "\n",
        "percent = [0.2, 0.4, 0.6, 0.8]\n",
        "accs_NB = []\n",
        "for p in percent:\n",
        "    acc = evaluate_acc_with_diff_train(p)\n",
        "    accs_NB.append(acc)"
      ],
      "execution_count": null,
      "outputs": []
    },
    {
      "cell_type": "code",
      "metadata": {
        "id": "051nW83V76LT"
      },
      "source": [
        "from sklearn.naive_bayes import MultinomialNB\n",
        "def evaluate_acc_with_diff_train(percent):\n",
        "    N = x_train.shape[0]\n",
        "    inds = np.random.permutation(N)\n",
        "    inds = inds[:int(N*percent)]\n",
        "    model = MultinomialNB(alpha=0.1)\n",
        "    model.fit(x_train.tocsr()[inds,:], np.array(y_train)[inds])\n",
        "    y_prob = model.predict(x_test)\n",
        "    y_pred = y_prob\n",
        "    accuracy = evaluate_acc(y_pred, y_test)\n",
        "    # print(f'test accuracy: {accuracy}')\n",
        "    return accuracy\n",
        "\n",
        "\n",
        "percent = [0.2, 0.4, 0.6, 0.8]\n",
        "accs_NB = []\n",
        "for p in percent:\n",
        "    acc = evaluate_acc_with_diff_train(p)\n",
        "    accs_NB.append(acc)"
      ],
      "execution_count": 15,
      "outputs": []
    },
    {
      "cell_type": "code",
      "metadata": {
        "id": "qUt_uK7D1_7f"
      },
      "source": [
        "def evaluate_acc_with_diff_train_LR(percent):\n",
        "    N = x_train.shape[0]\n",
        "    inds = np.random.permutation(N)\n",
        "    inds = inds[:int(N*percent)]\n",
        "    y_prob = LogisticRegression(tol=0.0001).fit(x_train.tocsr()[inds,:], np.array(y_train)[inds]).predict(x_test)\n",
        "    y_pred = y_prob\n",
        "    accuracy = evaluate_acc(y_pred, y_test)\n",
        "    # print(f'test accuracy: {accuracy}')\n",
        "    return accuracy\n",
        "\n",
        "\n",
        "percent = [0.2, 0.4, 0.6, 0.8]\n",
        "accs_LR = []\n",
        "for p in percent:\n",
        "    acc = evaluate_acc_with_diff_train_LR(p)\n",
        "    accs_LR.append(acc)"
      ],
      "execution_count": 16,
      "outputs": []
    },
    {
      "cell_type": "code",
      "metadata": {
        "colab": {
          "base_uri": "https://localhost:8080/",
          "height": 283
        },
        "id": "3KjOf_K45gZQ",
        "outputId": "da2b9c39-1a04-4871-df1f-41e0de64d038"
      },
      "source": [
        "plt.plot(percent, accs_NB,  label='NB')\n",
        "plt.plot(percent, accs_LR,  label='LR')\n",
        "plt.legend()\n",
        "plt.ylabel('Accuracy')\n",
        "plt.xlabel('Percentage of training data')\n",
        "plt.ylim(0.4, 0.9)\n",
        "plt.show()"
      ],
      "execution_count": 18,
      "outputs": [
        {
          "output_type": "display_data",
          "data": {
            "image/png": "[encoded data removed]",
            "text/plain": [
              "<Figure size 432x288 with 1 Axes>"
            ]
          },
          "metadata": {
            "tags": [],
            "needs_background": "light"
          }
        }
      ]
    }
  ]
}