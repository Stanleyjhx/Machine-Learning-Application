{
 "cells": [
  {
   "cell_type": "code",
   "execution_count": 13,
   "metadata": {},
   "outputs": [],
   "source": [
    "import os \n",
    "\n",
    "directory = \"./aclImdb/train/pos\"\n",
    "train_pos = []\n",
    "for filename in os.listdir(directory):\n",
    "    with open (directory + \"/\" + filename, \"r\") as myfile:\n",
    "        train_pos.append(myfile.read())\n",
    "\n",
    "directory = \"./aclImdb/train/neg\"\n",
    "train_neg = []\n",
    "for filename in os.listdir(directory):\n",
    "    with open (directory + \"/\" + filename, \"r\") as myfile:\n",
    "        train_neg.append(myfile.read())\n",
    "\n",
    "directory = \"./aclImdb/test/pos\"\n",
    "test_pos = []\n",
    "for filename in os.listdir(directory):\n",
    "    with open (directory + \"/\" + filename, \"r\") as myfile:\n",
    "        test_pos.append(myfile.read())\n",
    "        \n",
    "directory = \"./aclImdb/test/neg\"\n",
    "test_neg = []\n",
    "for filename in os.listdir(directory):\n",
    "    with open (directory + \"/\" + filename, \"r\") as myfile:\n",
    "        test_neg.append(myfile.read())\n",
    "        \n"
   ]
  },
  {
   "cell_type": "code",
   "execution_count": 20,
   "metadata": {},
   "outputs": [],
   "source": [
    "import pandas as pd \n",
    "pd.DataFrame(train_pos).to_csv(\"./data/train_pos.csv\", index=False, header=False)\n",
    "pd.DataFrame(train_neg).to_csv(\"./data/train_neg.csv\", index=False, header=False)\n",
    "pd.DataFrame(test_pos).to_csv(\"./data/test_pos.csv\", index=False, header=False)\n",
    "pd.DataFrame(test_neg).to_csv(\"./data/test_neg.csv\", index=False, header=False)"
   ]
  },
  {
   "cell_type": "code",
   "execution_count": null,
   "metadata": {},
   "outputs": [],
   "source": []
  }
 ],
 "metadata": {
  "kernelspec": {
   "display_name": "Python 3",
   "language": "python",
   "name": "python3"
  },
  "language_info": {
   "codemirror_mode": {
    "name": "ipython",
    "version": 3
   },
   "file_extension": ".py",
   "mimetype": "text/x-python",
   "name": "python",
   "nbconvert_exporter": "python",
   "pygments_lexer": "ipython3",
   "version": "3.8.3"
  }
 },
 "nbformat": 4,
 "nbformat_minor": 4
}
