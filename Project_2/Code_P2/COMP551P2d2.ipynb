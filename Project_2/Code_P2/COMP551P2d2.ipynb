{
  "nbformat": 4,
  "nbformat_minor": 0,
  "metadata": {
    "colab": {
      "name": "COMP551P2d2.ipynb",
      "provenance": [],
      "collapsed_sections": [],
      "toc_visible": true
    },
    "kernelspec": {
      "display_name": "Python 3",
      "name": "python3"
    }
  },
  "cells": [
    {
      "cell_type": "markdown",
      "metadata": {
        "id": "zr4scdAnEeWi"
      },
      "source": [
        "# COMP 551 P2 D2\n",
        "http://ai.stanford.edu/~amaas/data/sentiment/"
      ]
    },
    {
      "cell_type": "markdown",
      "metadata": {
        "id": "YgFzguSpCT31"
      },
      "source": [
        "## Data processing"
      ]
    },
    {
      "cell_type": "code",
      "metadata": {
        "id": "h2Igk38FPOTy"
      },
      "source": [
        "import pandas as pd\n",
        "import numpy as np\n",
        "import re\n",
        "from sklearn.feature_extraction.text import CountVectorizer\n",
        "from sklearn.feature_extraction.text import TfidfTransformer\n",
        "from sklearn.linear_model import LogisticRegression"
      ],
      "execution_count": 1,
      "outputs": []
    },
    {
      "cell_type": "code",
      "metadata": {
        "colab": {
          "base_uri": "https://localhost:8080/"
        },
        "id": "lcA_coLSPlnq",
        "outputId": "1d21e76a-1b0f-444d-ce9a-2a7e313c7f86"
      },
      "source": [
        "from google.colab import drive\n",
        "drive.mount('/content/drive')"
      ],
      "execution_count": 2,
      "outputs": [
        {
          "output_type": "stream",
          "text": [
            "Drive already mounted at /content/drive; to attempt to forcibly remount, call drive.mount(\"/content/drive\", force_remount=True).\n"
          ],
          "name": "stdout"
        }
      ]
    },
    {
      "cell_type": "code",
      "metadata": {
        "id": "_og_RJdJQZui"
      },
      "source": [
        "test_neg = pd.read_csv(\"/content/drive/MyDrive/data/test_neg.csv\", squeeze=True)\n",
        "test_pos = pd.read_csv(\"/content/drive/MyDrive/data/test_pos.csv\", squeeze=True)\n",
        "train_neg = pd.read_csv(\"/content/drive/MyDrive/data/train_neg.csv\", squeeze=True)\n",
        "train_pos = pd.read_csv(\"/content/drive/MyDrive/data/train_pos.csv\", squeeze=True)"
      ],
      "execution_count": 3,
      "outputs": []
    },
    {
      "cell_type": "code",
      "metadata": {
        "colab": {
          "base_uri": "https://localhost:8080/",
          "height": 248
        },
        "id": "EA4JbsEK917u",
        "outputId": "ddca10ea-2845-4c3a-95b6-54178cefb12d"
      },
      "source": [
        "labels = 'positive', 'negative'\n",
        "sizes = [50, 50]\n",
        "\n",
        "fig1, ax1 = plt.subplots()\n",
        "ax1.pie(sizes, labels=labels, autopct='%1.1f%%',\n",
        "        shadow=True, startangle=90)\n",
        "ax1.axis('equal')  # Equal aspect ratio ensures that pie is drawn as a circle.\n",
        "\n",
        "plt.show()"
      ],
      "execution_count": 60,
      "outputs": [
        {
          "output_type": "display_data",
          "data": {
            "image/png": "[encoded data removed]",
            "text/plain": [
              "<Figure size 432x288 with 1 Axes>"
            ]
          },
          "metadata": {
            "tags": []
          }
        }
      ]
    },
    {
      "cell_type": "code",
      "metadata": {
        "id": "mJ1GxNAMBFRH",
        "colab": {
          "base_uri": "https://localhost:8080/"
        },
        "outputId": "fe6e5379-b21f-43cb-8a14-124dff92a494"
      },
      "source": [
        "train_x = pd.concat([train_pos, train_neg])\n",
        "train_x = train_x.reset_index(drop=True)\n",
        "train_x.shape"
      ],
      "execution_count": 4,
      "outputs": [
        {
          "output_type": "execute_result",
          "data": {
            "text/plain": [
              "(24998,)"
            ]
          },
          "metadata": {
            "tags": []
          },
          "execution_count": 4
        }
      ]
    },
    {
      "cell_type": "code",
      "metadata": {
        "id": "qIr-OI89AFQQ",
        "colab": {
          "base_uri": "https://localhost:8080/"
        },
        "outputId": "0f9d35e2-4851-4d50-ceec-f6a74dc3a2b9"
      },
      "source": [
        "target = train_pos.shape[0] * [1]\n",
        "target.extend(train_neg.shape[0] * [0])\n",
        "y_train = target\n",
        "len(y_train)"
      ],
      "execution_count": 5,
      "outputs": [
        {
          "output_type": "execute_result",
          "data": {
            "text/plain": [
              "24998"
            ]
          },
          "metadata": {
            "tags": []
          },
          "execution_count": 5
        }
      ]
    },
    {
      "cell_type": "code",
      "metadata": {
        "id": "jd_rxdJYA01J",
        "colab": {
          "base_uri": "https://localhost:8080/"
        },
        "outputId": "c01fcd73-7eab-4120-86fc-dc0b4e117bf0"
      },
      "source": [
        "delchars = ''.join(c for c in map(chr, range(256)) if not c.isalpha())\n",
        "delchars = ''.join(ch for ch in delchars if ch !=' ')\n",
        "def clean_text(paragraph):\n",
        "    output = re.sub('\\<.*?\\>','', paragraph) #delete tags (between <..>)\n",
        "    output = re.sub('\\@.*?\\s','', output) #delete usernames (words following @)\n",
        "    output = re.sub('\\n','', output) #delete anything following a slash\n",
        "    output = output.translate(str.maketrans('','',delchars))\n",
        "    output = output.strip()\n",
        "    return output\n",
        "\n",
        "train_x = list(map(lambda x: clean_text(x), train_x))\n",
        "len(train_x)"
      ],
      "execution_count": 6,
      "outputs": [
        {
          "output_type": "execute_result",
          "data": {
            "text/plain": [
              "24998"
            ]
          },
          "metadata": {
            "tags": []
          },
          "execution_count": 6
        }
      ]
    },
    {
      "cell_type": "code",
      "metadata": {
        "id": "_lU6pyMkwB4A",
        "colab": {
          "base_uri": "https://localhost:8080/"
        },
        "outputId": "91962b53-57e7-4607-d95c-f6f6545a58c1"
      },
      "source": [
        "# test set data\n",
        "test_x = pd.concat([test_pos, test_neg])\n",
        "test_x = test_x.reset_index(drop=True)\n",
        "test_x.shape"
      ],
      "execution_count": 7,
      "outputs": [
        {
          "output_type": "execute_result",
          "data": {
            "text/plain": [
              "(24998,)"
            ]
          },
          "metadata": {
            "tags": []
          },
          "execution_count": 7
        }
      ]
    },
    {
      "cell_type": "code",
      "metadata": {
        "id": "_tJ8BlhAwTIg",
        "colab": {
          "base_uri": "https://localhost:8080/"
        },
        "outputId": "9e2e37a5-e207-473b-e4c6-09cb0f8d31ce"
      },
      "source": [
        "y_test = test_pos.shape[0] * [1]\n",
        "y_test.extend(test_neg.shape[0] * [0])\n",
        "len(y_test)"
      ],
      "execution_count": 8,
      "outputs": [
        {
          "output_type": "execute_result",
          "data": {
            "text/plain": [
              "24998"
            ]
          },
          "metadata": {
            "tags": []
          },
          "execution_count": 8
        }
      ]
    },
    {
      "cell_type": "code",
      "metadata": {
        "id": "3Aw9oq_RCesD",
        "colab": {
          "base_uri": "https://localhost:8080/"
        },
        "outputId": "6124cbae-ea6b-4fb5-e65a-a9e5228b8001"
      },
      "source": [
        "count_vect = CountVectorizer()\n",
        "X_train_counts = count_vect.fit_transform(train_x)\n",
        "tfidf_transformer = TfidfTransformer()\n",
        "X_train_tfidf = tfidf_transformer.fit_transform(X_train_counts)\n",
        "x_train = X_train_tfidf\n",
        "x_train.shape"
      ],
      "execution_count": 9,
      "outputs": [
        {
          "output_type": "execute_result",
          "data": {
            "text/plain": [
              "(24998, 138145)"
            ]
          },
          "metadata": {
            "tags": []
          },
          "execution_count": 9
        }
      ]
    },
    {
      "cell_type": "code",
      "metadata": {
        "id": "KED0qYlZwfA3"
      },
      "source": [
        "X_new_counts = count_vect.transform(test_x)\n",
        "x_test = tfidf_transformer.transform(X_new_counts)"
      ],
      "execution_count": 10,
      "outputs": []
    },
    {
      "cell_type": "markdown",
      "metadata": {
        "id": "bUIMTEECSN0X"
      },
      "source": [
        "## Naive Bayes"
      ]
    },
    {
      "cell_type": "code",
      "metadata": {
        "id": "l5icF5M8bVGi"
      },
      "source": [
        "import itertools\r\n",
        "%matplotlib inline\r\n",
        "import matplotlib.pyplot as plt\r\n",
        "np.random.seed(1234)"
      ],
      "execution_count": 11,
      "outputs": []
    },
    {
      "cell_type": "code",
      "metadata": {
        "id": "vQJVeAUQbVZi"
      },
      "source": [
        "class MultinomialNaiveBayes:\n",
        "  def __init__(self, alpha=1):\n",
        "    self.alpha = alpha \n",
        "\n",
        "  def fit(self, X_train, y_train):\n",
        "      m, n = X_train.shape\n",
        "      self._classes = np.unique(y_train)\n",
        "      n_classes = len(self._classes)\n",
        "\n",
        "    # init: Prior & Likelihood\n",
        "      self._priors = np.zeros(n_classes)\n",
        "      self._likelyhoods = np.zeros((n_classes, n))\n",
        "\n",
        "    # Get Prior and Likelihood\n",
        "      for idx, c in enumerate(self._classes):\n",
        "          X_train_c = X_train[c == y_train]\n",
        "          self._priors[idx] = X_train_c.shape[0] / m \n",
        "          self._likelyhoods[idx, :] = ((X_train_c.sum(axis=0)) + self.alpha) / (np.sum(X_train_c.sum(axis=0) + self.alpha))\n",
        "\n",
        "\n",
        "  def predict(self, X_test):\n",
        "      return [self._predict(x_test) for x_test in X_test]\n",
        "\n",
        "  def _predict(self, x_test):\n",
        "      #Calculate posterior for each class\n",
        "      posteriors = []\n",
        "      for idx, c in enumerate(self._classes):\n",
        "          prior_c = np.log(self._priors[idx])\n",
        "          likelyhoods_c = self.calc_likelyhood(self._likelyhoods[idx,:], x_test.toarray())\n",
        "\n",
        "          posteriors_c = np.sum(likelyhoods_c) + prior_c\n",
        "          posteriors.append(posteriors_c)\n",
        "      return self._classes[np.argmax(posteriors)]\n",
        "\n",
        "  def calc_likelyhood(self, cls_likely, x_test):\n",
        "      return np.log(cls_likely) * x_test\n",
        "\n",
        "  def score(self, X_test, y_test):\n",
        "      y_pred = self.predict(X_test)\n",
        "      return np.sum(y_pred == y_test)/len(y_test)\n",
        "\n"
      ],
      "execution_count": 12,
      "outputs": []
    },
    {
      "cell_type": "markdown",
      "metadata": {
        "id": "A0ZHLQA5AFMz"
      },
      "source": [
        "### Cross validation\n",
        "\n",
        "https://colab.research.google.com/github/mravanba/comp551-notebooks/blob/master/ModelSelection.ipynb"
      ]
    },
    {
      "cell_type": "code",
      "metadata": {
        "id": "Kr-T2iDBAH9e"
      },
      "source": [
        "def evaluate_acc(actual, pred):\n",
        "    correct = 0\n",
        "    for i in range(len(actual)):\n",
        "        if actual[i] == pred[i]: correct += 1\n",
        "    return correct / len(actual)\n",
        "\n",
        "\n",
        "def cross_validation_split(n, n_folds=10):\n",
        "    #get the number of data samples in each split\n",
        "    n_val = n // n_folds\n",
        "    inds = np.random.permutation(n)\n",
        "    inds = []\n",
        "    for f in range(n_folds):\n",
        "        tr_inds = []\n",
        "        #get the validation indexes\n",
        "        val_inds = list(range(f * n_val, (f+1)*n_val))\n",
        "        #get the train indexes\n",
        "        if f > 0:\n",
        "            tr_inds = list(range(f*n_val))\n",
        "        if f < n_folds - 1:\n",
        "            tr_inds = tr_inds + list(range((f+1)*n_val, n))\n",
        "        #The yield statement suspends function’s execution and sends a value back to the caller\n",
        "        #but retains enough state information to enable function to resume where it is left off\n",
        "        yield tr_inds, val_inds\n",
        "\n",
        "\n",
        "n_train = x_train.shape[0]\n",
        "num_folds = 10\n",
        "acc_val = np.zeros(num_folds)\n",
        "def kfoldCV(a):\n",
        "    for f, (tr, val) in enumerate(cross_validation_split(n_train, num_folds)):\n",
        "        model = MultinomialNaiveBayes(alpha=a)\n",
        "        model.fit(X_train=x_train.tocsr()[tr,:], y_train=np.array(y_train)[tr])\n",
        "        y_prob = model.predict(x_train.tocsr()[val,:])\n",
        "        # print(evaluate_acc(np.array(y_train)[val], y_prob))\n",
        "        acc_val[f] = evaluate_acc(np.array(y_train)[val], y_prob)\n",
        "    return acc_val\n",
        "\n",
        "\n",
        "alphas = [0.1, 0.2, 0.3, 0.4, 0.5, 0.6, 0.7, 0.8, 0.9, 1.0]\n",
        "res = []\n",
        "for a in alphas:\n",
        "    b = kfoldCV(a)\n",
        "    # print(b)\n",
        "    res.append(list(b)[:])"
      ],
      "execution_count": null,
      "outputs": []
    },
    {
      "cell_type": "code",
      "metadata": {
        "colab": {
          "base_uri": "https://localhost:8080/",
          "height": 279
        },
        "id": "cwabBf0dZm1F",
        "outputId": "56b026a9-f511-40fe-a99f-cbfddfae5d4b"
      },
      "source": [
        "plt.errorbar(alphas, np.mean(res, axis=1), np.std(res, axis=1), label='validation')\n",
        "plt.legend()\n",
        "plt.xlabel('alpha')\n",
        "plt.ylabel('validation set accuracy')\n",
        "plt.show()"
      ],
      "execution_count": null,
      "outputs": [
        {
          "output_type": "display_data",
          "data": {
            "image/png": "[encoded data removed]",
            "text/plain": [
              "<Figure size 432x288 with 1 Axes>"
            ]
          },
          "metadata": {
            "tags": [],
            "needs_background": "light"
          }
        }
      ]
    },
    {
      "cell_type": "markdown",
      "metadata": {
        "id": "HsQohGZglBqw"
      },
      "source": [
        "### Test Accuracy"
      ]
    },
    {
      "cell_type": "code",
      "metadata": {
        "colab": {
          "base_uri": "https://localhost:8080/"
        },
        "id": "tms05bpuaJ9-",
        "outputId": "eb7f8925-9226-4f31-b418-ad03ffee1d52"
      },
      "source": [
        "def evaluate_acc_test():\n",
        "    model = MultinomialNaiveBayes(alpha=0.1)\n",
        "    model.fit(X_train=x_train, y_train = y_train)\n",
        "    y_prob = model.predict(x_test)\n",
        "    y_pred = y_prob\n",
        "    accuracy = evaluate_acc(y_pred, y_test)\n",
        "    print(f'test accuracy: {accuracy}')\n",
        "\n",
        "\n",
        "evaluate_acc_test()"
      ],
      "execution_count": null,
      "outputs": [
        {
          "output_type": "stream",
          "text": [
            "test accuracy: 0.810624849987999\n"
          ],
          "name": "stdout"
        }
      ]
    },
    {
      "cell_type": "markdown",
      "metadata": {
        "id": "pn-vsXS8ukLb"
      },
      "source": [
        "## Logistic Regression"
      ]
    },
    {
      "cell_type": "code",
      "metadata": {
        "id": "0nhtmIi8Ci90"
      },
      "source": [
        "def evaluate_acc(actual, pred):\n",
        "    correct = 0\n",
        "    for i in range(len(actual)):\n",
        "        if actual[i] == pred[i]: correct += 1\n",
        "    return correct / len(actual)\n",
        "\n",
        "def logistic(t):\n",
        "    n = x_train.shape[0]\n",
        "    n *= 0.75 # number for train, remaining for validation\n",
        "    n = int(n)\n",
        "    clf = LogisticRegression(tol=t, max_iter=200).fit(x_train.tocsr()[range(0,n),:], np.array(y_train)[range(0,n)])\n",
        "    res = clf.predict(x_train.tocsr()[range(n,x_train.shape[0]-1),:])\n",
        "    return evaluate_acc(np.array(y_train)[range(n,x_train.shape[0]-1)], res)"
      ],
      "execution_count": 22,
      "outputs": []
    },
    {
      "cell_type": "code",
      "metadata": {
        "id": "Y4535nT014KF",
        "colab": {
          "base_uri": "https://localhost:8080/"
        },
        "outputId": "0bf8d1fc-610b-4fa1-ef8d-22cccc05649d"
      },
      "source": [
        "tols = [0.0001, 0.001, 0.01, 0.1, 1, 10]\n",
        "acc_log = []\n",
        "for t in tols:\n",
        "    acc_log.append(logistic(t))\n",
        "print(acc_log)"
      ],
      "execution_count": 24,
      "outputs": [
        {
          "output_type": "stream",
          "text": [
            "[0.7162746039366299, 0.7162746039366299, 0.7162746039366299, 0.7162746039366299, 0.7170747319571131, 0.718514962393983]\n"
          ],
          "name": "stdout"
        }
      ]
    },
    {
      "cell_type": "code",
      "metadata": {
        "colab": {
          "base_uri": "https://localhost:8080/"
        },
        "id": "TM7Q_k8zwmrY",
        "outputId": "04ef38bb-93c5-4714-df92-89a0d43b1d1c"
      },
      "source": [
        "def logistic_test_set():\n",
        "    clf = LogisticRegression(tol=0.0001).fit(x_train, y_train)\n",
        "    res = clf.predict(x_test)\n",
        "    return evaluate_acc(y_test, res)\n",
        "\n",
        "\n",
        "logistic_test_set()"
      ],
      "execution_count": 25,
      "outputs": [
        {
          "output_type": "execute_result",
          "data": {
            "text/plain": [
              "0.8818705496439715"
            ]
          },
          "metadata": {
            "tags": []
          },
          "execution_count": 25
        }
      ]
    },
    {
      "cell_type": "markdown",
      "metadata": {
        "id": "QRa-76LrssrJ"
      },
      "source": [
        "## Task 3.3"
      ]
    },
    {
      "cell_type": "code",
      "metadata": {
        "id": "Ny_zZ62ZsvDr"
      },
      "source": [
        "def evaluate_acc_with_diff_train(percent):\n",
        "    N = x_train.shape[0]\n",
        "    inds = np.random.permutation(N)\n",
        "    inds = inds[:int(N*percent)]\n",
        "    model = MultinomialNaiveBayes(alpha=0.1)\n",
        "    model.fit(X_train = x_train.tocsr()[inds,:], y_train = np.array(y_train)[inds])\n",
        "    y_prob = model.predict(x_test)\n",
        "    y_pred = y_prob\n",
        "    accuracy = evaluate_acc(y_pred, y_test)\n",
        "    # print(f'test accuracy: {accuracy}')\n",
        "    return accuracy\n",
        "\n",
        "\n",
        "percent = [0.2, 0.4, 0.6, 0.8]\n",
        "accs_NB = []\n",
        "for p in percent:\n",
        "    acc = evaluate_acc_with_diff_train(p)\n",
        "    accs_NB.append(acc)"
      ],
      "execution_count": 57,
      "outputs": []
    },
    {
      "cell_type": "code",
      "metadata": {
        "id": "qUt_uK7D1_7f"
      },
      "source": [
        "def evaluate_acc_with_diff_train_LR(percent):\n",
        "    N = x_train.shape[0]\n",
        "    inds = np.random.permutation(N)\n",
        "    inds = inds[:int(N*percent)]\n",
        "    y_prob = LogisticRegression(tol=0.0001).fit(x_train.tocsr()[inds,:], np.array(y_train)[inds]).predict(x_test)\n",
        "    y_pred = y_prob\n",
        "    accuracy = evaluate_acc(y_pred, y_test)\n",
        "    # print(f'test accuracy: {accuracy}')\n",
        "    return accuracy\n",
        "\n",
        "\n",
        "percent = [0.2, 0.4, 0.6, 0.8]\n",
        "accs_LR = []\n",
        "for p in percent:\n",
        "    acc = evaluate_acc_with_diff_train_LR(p)\n",
        "    accs_LR.append(acc)"
      ],
      "execution_count": null,
      "outputs": []
    },
    {
      "cell_type": "code",
      "metadata": {
        "colab": {
          "base_uri": "https://localhost:8080/",
          "height": 283
        },
        "id": "3KjOf_K45gZQ",
        "outputId": "5d357aad-d223-49aa-df61-99ab14d743ec"
      },
      "source": [
        "plt.plot(percent, accs_NB,  label='NB')\n",
        "plt.plot(percent, accs_LR,  label='LR')\n",
        "plt.legend()\n",
        "plt.ylabel('Accuracy')\n",
        "plt.xlabel('Percentage of training data')\n",
        "plt.ylim(0.5, 1)\n",
        "plt.show()"
      ],
      "execution_count": 53,
      "outputs": [
        {
          "output_type": "display_data",
          "data": {
            "image/png": "[encoded data removed]",
            "text/plain": [
              "<Figure size 432x288 with 1 Axes>"
            ]
          },
          "metadata": {
            "tags": [],
            "needs_background": "light"
          }
        }
      ]
    }
  ]
}