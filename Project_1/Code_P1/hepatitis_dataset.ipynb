{
  "nbformat": 4,
  "nbformat_minor": 0,
  "metadata": {
    "colab": {
      "name": "hepatitis_dataset.ipynb",
      "provenance": [],
      "toc_visible": true
    },
    "kernelspec": {
      "name": "python3",
      "display_name": "Python 3"
    }
  },
  "cells": [
    {
      "cell_type": "markdown",
      "metadata": {
        "id": "OoN53rU8TEF_"
      },
      "source": [
        "# Mini Project 1"
      ]
    },
    {
      "cell_type": "markdown",
      "metadata": {
        "id": "qiktq3ofql0d"
      },
      "source": [
        "# Hepatitis dataset\n",
        "http://archive.ics.uci.edu/ml/datasets/Hepatitis"
      ]
    },
    {
      "cell_type": "code",
      "metadata": {
        "id": "vFYelb1rylz0"
      },
      "source": [
        "import pandas as pd\n",
        "import numpy as np\n",
        "\n",
        "#the output of plotting commands is displayed inline within frontends\n",
        "%matplotlib inline                                  \n",
        "import matplotlib.pyplot as plt\n",
        "\n",
        "#it is important to set the seed for reproducibility as it initializes the random number generator\n",
        "np.random.seed(789)"
      ],
      "execution_count": 1,
      "outputs": []
    },
    {
      "cell_type": "markdown",
      "metadata": {
        "id": "vabJW9UQTTOU"
      },
      "source": [
        "## Data processing\n"
      ]
    },
    {
      "cell_type": "code",
      "metadata": {
        "colab": {
          "base_uri": "https://localhost:8080/",
          "height": 419
        },
        "id": "L5aorZUNyZOb",
        "outputId": "a4b1ce19-c459-4d99-eb0b-987b291d07ee"
      },
      "source": [
        "df = pd.read_csv(\"/content/hepatitis.csv\")\n",
        "df.drop_duplicates(subset=None, keep='first', inplace=True) # remove duplicated rows\n",
        "df = df[~df.eq('?').any(1)] # remove missing data \n",
        "df = df.reset_index(drop=True)\n",
        "df"
      ],
      "execution_count": 2,
      "outputs": [
        {
          "output_type": "execute_result",
          "data": {
            "text/html": [
              "<div>\n",
              "<style scoped>\n",
              "    .dataframe tbody tr th:only-of-type {\n",
              "        vertical-align: middle;\n",
              "    }\n",
              "\n",
              "    .dataframe tbody tr th {\n",
              "        vertical-align: top;\n",
              "    }\n",
              "\n",
              "    .dataframe thead th {\n",
              "        text-align: right;\n",
              "    }\n",
              "</style>\n",
              "<table border=\"1\" class=\"dataframe\">\n",
              "  <thead>\n",
              "    <tr style=\"text-align: right;\">\n",
              "      <th></th>\n",
              "      <th>Class</th>\n",
              "      <th>AGE</th>\n",
              "      <th>SEX</th>\n",
              "      <th>STEROID</th>\n",
              "      <th>ANTIVIRALS</th>\n",
              "      <th>FATIGUE</th>\n",
              "      <th>MALAISE</th>\n",
              "      <th>ANOREXIA</th>\n",
              "      <th>LIVER_BIG</th>\n",
              "      <th>LIVER_FIRM</th>\n",
              "      <th>SPLEEN_PALPABLE</th>\n",
              "      <th>SPIDERS</th>\n",
              "      <th>ASCITES</th>\n",
              "      <th>VARICES</th>\n",
              "      <th>BILIRUBIN</th>\n",
              "      <th>ALK_PHOSPHATE</th>\n",
              "      <th>SGOT</th>\n",
              "      <th>ALBUMIN</th>\n",
              "      <th>PROTIME</th>\n",
              "      <th>HISTOLOGY</th>\n",
              "    </tr>\n",
              "  </thead>\n",
              "  <tbody>\n",
              "    <tr>\n",
              "      <th>0</th>\n",
              "      <td>2</td>\n",
              "      <td>34</td>\n",
              "      <td>1</td>\n",
              "      <td>2</td>\n",
              "      <td>2</td>\n",
              "      <td>2</td>\n",
              "      <td>2</td>\n",
              "      <td>2</td>\n",
              "      <td>2</td>\n",
              "      <td>2</td>\n",
              "      <td>2</td>\n",
              "      <td>2</td>\n",
              "      <td>2</td>\n",
              "      <td>2</td>\n",
              "      <td>0.90</td>\n",
              "      <td>95</td>\n",
              "      <td>28</td>\n",
              "      <td>4.0</td>\n",
              "      <td>75</td>\n",
              "      <td>1</td>\n",
              "    </tr>\n",
              "    <tr>\n",
              "      <th>1</th>\n",
              "      <td>2</td>\n",
              "      <td>39</td>\n",
              "      <td>1</td>\n",
              "      <td>1</td>\n",
              "      <td>1</td>\n",
              "      <td>2</td>\n",
              "      <td>2</td>\n",
              "      <td>2</td>\n",
              "      <td>1</td>\n",
              "      <td>1</td>\n",
              "      <td>2</td>\n",
              "      <td>2</td>\n",
              "      <td>2</td>\n",
              "      <td>2</td>\n",
              "      <td>1.30</td>\n",
              "      <td>78</td>\n",
              "      <td>30</td>\n",
              "      <td>4.4</td>\n",
              "      <td>85</td>\n",
              "      <td>1</td>\n",
              "    </tr>\n",
              "    <tr>\n",
              "      <th>2</th>\n",
              "      <td>2</td>\n",
              "      <td>32</td>\n",
              "      <td>1</td>\n",
              "      <td>2</td>\n",
              "      <td>1</td>\n",
              "      <td>1</td>\n",
              "      <td>2</td>\n",
              "      <td>2</td>\n",
              "      <td>2</td>\n",
              "      <td>1</td>\n",
              "      <td>2</td>\n",
              "      <td>1</td>\n",
              "      <td>2</td>\n",
              "      <td>2</td>\n",
              "      <td>1.00</td>\n",
              "      <td>59</td>\n",
              "      <td>249</td>\n",
              "      <td>3.7</td>\n",
              "      <td>54</td>\n",
              "      <td>1</td>\n",
              "    </tr>\n",
              "    <tr>\n",
              "      <th>3</th>\n",
              "      <td>2</td>\n",
              "      <td>41</td>\n",
              "      <td>1</td>\n",
              "      <td>2</td>\n",
              "      <td>1</td>\n",
              "      <td>1</td>\n",
              "      <td>2</td>\n",
              "      <td>2</td>\n",
              "      <td>2</td>\n",
              "      <td>1</td>\n",
              "      <td>2</td>\n",
              "      <td>2</td>\n",
              "      <td>2</td>\n",
              "      <td>2</td>\n",
              "      <td>0.90</td>\n",
              "      <td>81</td>\n",
              "      <td>60</td>\n",
              "      <td>3.9</td>\n",
              "      <td>52</td>\n",
              "      <td>1</td>\n",
              "    </tr>\n",
              "    <tr>\n",
              "      <th>4</th>\n",
              "      <td>2</td>\n",
              "      <td>30</td>\n",
              "      <td>1</td>\n",
              "      <td>2</td>\n",
              "      <td>2</td>\n",
              "      <td>1</td>\n",
              "      <td>2</td>\n",
              "      <td>2</td>\n",
              "      <td>2</td>\n",
              "      <td>1</td>\n",
              "      <td>2</td>\n",
              "      <td>2</td>\n",
              "      <td>2</td>\n",
              "      <td>2</td>\n",
              "      <td>2.20</td>\n",
              "      <td>57</td>\n",
              "      <td>144</td>\n",
              "      <td>4.9</td>\n",
              "      <td>78</td>\n",
              "      <td>1</td>\n",
              "    </tr>\n",
              "    <tr>\n",
              "      <th>...</th>\n",
              "      <td>...</td>\n",
              "      <td>...</td>\n",
              "      <td>...</td>\n",
              "      <td>...</td>\n",
              "      <td>...</td>\n",
              "      <td>...</td>\n",
              "      <td>...</td>\n",
              "      <td>...</td>\n",
              "      <td>...</td>\n",
              "      <td>...</td>\n",
              "      <td>...</td>\n",
              "      <td>...</td>\n",
              "      <td>...</td>\n",
              "      <td>...</td>\n",
              "      <td>...</td>\n",
              "      <td>...</td>\n",
              "      <td>...</td>\n",
              "      <td>...</td>\n",
              "      <td>...</td>\n",
              "      <td>...</td>\n",
              "    </tr>\n",
              "    <tr>\n",
              "      <th>75</th>\n",
              "      <td>2</td>\n",
              "      <td>45</td>\n",
              "      <td>1</td>\n",
              "      <td>2</td>\n",
              "      <td>1</td>\n",
              "      <td>2</td>\n",
              "      <td>2</td>\n",
              "      <td>2</td>\n",
              "      <td>2</td>\n",
              "      <td>2</td>\n",
              "      <td>2</td>\n",
              "      <td>2</td>\n",
              "      <td>2</td>\n",
              "      <td>2</td>\n",
              "      <td>1.30</td>\n",
              "      <td>85</td>\n",
              "      <td>44</td>\n",
              "      <td>4.2</td>\n",
              "      <td>85</td>\n",
              "      <td>2</td>\n",
              "    </tr>\n",
              "    <tr>\n",
              "      <th>76</th>\n",
              "      <td>1</td>\n",
              "      <td>49</td>\n",
              "      <td>1</td>\n",
              "      <td>1</td>\n",
              "      <td>2</td>\n",
              "      <td>1</td>\n",
              "      <td>1</td>\n",
              "      <td>2</td>\n",
              "      <td>2</td>\n",
              "      <td>2</td>\n",
              "      <td>1</td>\n",
              "      <td>1</td>\n",
              "      <td>2</td>\n",
              "      <td>2</td>\n",
              "      <td>1.40</td>\n",
              "      <td>85</td>\n",
              "      <td>70</td>\n",
              "      <td>3.5</td>\n",
              "      <td>35</td>\n",
              "      <td>2</td>\n",
              "    </tr>\n",
              "    <tr>\n",
              "      <th>77</th>\n",
              "      <td>2</td>\n",
              "      <td>31</td>\n",
              "      <td>1</td>\n",
              "      <td>1</td>\n",
              "      <td>2</td>\n",
              "      <td>1</td>\n",
              "      <td>2</td>\n",
              "      <td>2</td>\n",
              "      <td>2</td>\n",
              "      <td>2</td>\n",
              "      <td>2</td>\n",
              "      <td>2</td>\n",
              "      <td>2</td>\n",
              "      <td>2</td>\n",
              "      <td>1.20</td>\n",
              "      <td>75</td>\n",
              "      <td>173</td>\n",
              "      <td>4.2</td>\n",
              "      <td>54</td>\n",
              "      <td>2</td>\n",
              "    </tr>\n",
              "    <tr>\n",
              "      <th>78</th>\n",
              "      <td>2</td>\n",
              "      <td>53</td>\n",
              "      <td>2</td>\n",
              "      <td>1</td>\n",
              "      <td>2</td>\n",
              "      <td>1</td>\n",
              "      <td>2</td>\n",
              "      <td>2</td>\n",
              "      <td>2</td>\n",
              "      <td>2</td>\n",
              "      <td>1</td>\n",
              "      <td>1</td>\n",
              "      <td>2</td>\n",
              "      <td>1</td>\n",
              "      <td>1.50</td>\n",
              "      <td>81</td>\n",
              "      <td>19</td>\n",
              "      <td>4.1</td>\n",
              "      <td>48</td>\n",
              "      <td>2</td>\n",
              "    </tr>\n",
              "    <tr>\n",
              "      <th>79</th>\n",
              "      <td>1</td>\n",
              "      <td>43</td>\n",
              "      <td>1</td>\n",
              "      <td>2</td>\n",
              "      <td>2</td>\n",
              "      <td>1</td>\n",
              "      <td>2</td>\n",
              "      <td>2</td>\n",
              "      <td>2</td>\n",
              "      <td>2</td>\n",
              "      <td>1</td>\n",
              "      <td>1</td>\n",
              "      <td>1</td>\n",
              "      <td>2</td>\n",
              "      <td>1.20</td>\n",
              "      <td>100</td>\n",
              "      <td>19</td>\n",
              "      <td>3.1</td>\n",
              "      <td>42</td>\n",
              "      <td>2</td>\n",
              "    </tr>\n",
              "  </tbody>\n",
              "</table>\n",
              "<p>80 rows × 20 columns</p>\n",
              "</div>"
            ],
            "text/plain": [
              "    Class  AGE  SEX STEROID  ...  SGOT ALBUMIN PROTIME HISTOLOGY\n",
              "0       2   34    1       2  ...    28     4.0      75         1\n",
              "1       2   39    1       1  ...    30     4.4      85         1\n",
              "2       2   32    1       2  ...   249     3.7      54         1\n",
              "3       2   41    1       2  ...    60     3.9      52         1\n",
              "4       2   30    1       2  ...   144     4.9      78         1\n",
              "..    ...  ...  ...     ...  ...   ...     ...     ...       ...\n",
              "75      2   45    1       2  ...    44     4.2      85         2\n",
              "76      1   49    1       1  ...    70     3.5      35         2\n",
              "77      2   31    1       1  ...   173     4.2      54         2\n",
              "78      2   53    2       1  ...    19     4.1      48         2\n",
              "79      1   43    1       2  ...    19     3.1      42         2\n",
              "\n",
              "[80 rows x 20 columns]"
            ]
          },
          "metadata": {
            "tags": []
          },
          "execution_count": 2
        }
      ]
    },
    {
      "cell_type": "code",
      "metadata": {
        "colab": {
          "base_uri": "https://localhost:8080/",
          "height": 518
        },
        "id": "DzBKWk_xKmQ9",
        "outputId": "88dc7d3d-5f57-46e2-9b51-20182cda1880"
      },
      "source": [
        "mode = df.drop(columns=[\"AGE\",\"BILIRUBIN\",\t\"ALK_PHOSPHATE\",\t\"SGOT\",\t\"ALBUMIN\",\t\"PROTIME\"]).groupby(by=[\"Class\"]).agg(lambda x:x.value_counts().index[0])\n",
        "\n",
        "#visualization of the data\n",
        "label_names = list(mode.columns)\n",
        "for i, label in enumerate(label_names):\n",
        "    print(i + 1, label)\n",
        "labels = [i for i in range(1, 14)]\n",
        "\n",
        "class1_mode = mode.iloc[0].astype(int)\n",
        "class2_mode = mode.iloc[1].astype(int)\n",
        "\n",
        "x = np.arange(len(labels))  # the label locations\n",
        "width = 0.35  # the width of the bars\n",
        "\n",
        "fig, ax = plt.subplots()\n",
        "rects1 = ax.bar(x - width/2, class1_mode, width, label='class 1')\n",
        "rects2 = ax.bar(x + width/2, class2_mode, width, label='class 2')\n",
        "\n",
        "# Add some text for labels, title and custom x-axis tick labels, etc.\n",
        "ax.set_ylabel('Mode Values')\n",
        "# ax.set_title('')\n",
        "ax.set_xticks(x)\n",
        "ax.set_xticklabels(labels)\n",
        "ax.legend()\n",
        "fig.tight_layout()\n",
        "plt.show()"
      ],
      "execution_count": 3,
      "outputs": [
        {
          "output_type": "stream",
          "text": [
            "1 SEX\n",
            "2 STEROID\n",
            "3 ANTIVIRALS\n",
            "4 FATIGUE\n",
            "5 MALAISE\n",
            "6 ANOREXIA\n",
            "7 LIVER_BIG\n",
            "8 LIVER_FIRM\n",
            "9 SPLEEN_PALPABLE\n",
            "10 SPIDERS\n",
            "11 ASCITES\n",
            "12 VARICES\n",
            "13 HISTOLOGY\n"
          ],
          "name": "stdout"
        },
        {
          "output_type": "display_data",
          "data": {
            "image/png": "[encoded data removed]",
            "text/plain": [
              "<Figure size 432x288 with 1 Axes>"
            ]
          },
          "metadata": {
            "tags": [],
            "needs_background": "light"
          }
        }
      ]
    },
    {
      "cell_type": "markdown",
      "metadata": {
        "id": "K_VQgt7cIonZ"
      },
      "source": [
        "## KNN"
      ]
    },
    {
      "cell_type": "code",
      "metadata": {
        "colab": {
          "base_uri": "https://localhost:8080/"
        },
        "id": "UleKOxuiIxTc",
        "outputId": "a11dadca-c97a-4a51-d621-1193ad17b611"
      },
      "source": [
        "x, y = df.loc[:,\"AGE\":\"HISTOLOGY\"], df.loc[:, \"Class\"]\n",
        "# x.to_n\n",
        "# normalized_df=(x-x.min())/(x.max()-x.min())\n",
        "\n",
        "# reorder columns\n",
        "cols = list(x.columns[1:13])\n",
        "cols.append(str(x.columns[-1]))\n",
        "cols.append(str(x.columns[0]))\n",
        "cols.extend(list(x.columns[13:-1]))\n",
        "x = x[cols]\n",
        "x[x.columns[1:14]] = x[x.columns[1:14]].astype(int)\n",
        "x[x.columns[14:]] = x[x.columns[14:]].astype(float)\n",
        "print(x.dtypes)  \n",
        "normalized_x=(x-x.min())/(x.max()-x.min())                                          #min-max normalization\n",
        "# normalized_x\n",
        "\n",
        "#print the feature shape and classes of dataset \n",
        "(N,D), C = x.shape, df[\"Class\"].unique().size\n",
        "print(f'instances (N) \\t {N} \\n features (D) \\t {D} \\n classes (C) \\t {C}')\n",
        "\n",
        "train_num = int(N * 0.6)\n",
        "val_num = int(N * 0.8)\n",
        "inds = np.random.permutation(N)                                                     #generates an indices array from 0 to N-1 and permutes it \n",
        "\n",
        "#split the dataset into train, validation and test\n",
        "x_train, y_train = normalized_x.loc[inds[:train_num],], y.loc[inds[:train_num],].to_numpy(dtype=np.int16).flatten()\n",
        "x_val, y_val = normalized_x.loc[inds[train_num:val_num],], y.loc[inds[train_num:val_num],].to_numpy(dtype=np.int16).flatten()\n",
        "x_test, y_test = normalized_x.loc[inds[val_num:],], y.loc[inds[val_num:],].to_numpy(dtype=np.int16).flatten()\n"
      ],
      "execution_count": 4,
      "outputs": [
        {
          "output_type": "stream",
          "text": [
            "SEX                  int64\n",
            "STEROID              int64\n",
            "ANTIVIRALS           int64\n",
            "FATIGUE              int64\n",
            "MALAISE              int64\n",
            "ANOREXIA             int64\n",
            "LIVER_BIG            int64\n",
            "LIVER_FIRM           int64\n",
            "SPLEEN_PALPABLE      int64\n",
            "SPIDERS              int64\n",
            "ASCITES              int64\n",
            "VARICES              int64\n",
            "HISTOLOGY            int64\n",
            "AGE                  int64\n",
            "BILIRUBIN          float64\n",
            "ALK_PHOSPHATE      float64\n",
            "SGOT               float64\n",
            "ALBUMIN            float64\n",
            "PROTIME            float64\n",
            "dtype: object\n",
            "instances (N) \t 80 \n",
            " features (D) \t 19 \n",
            " classes (C) \t 2\n"
          ],
          "name": "stdout"
        }
      ]
    },
    {
      "cell_type": "code",
      "metadata": {
        "id": "0XExnElqEtve"
      },
      "source": [
        "''' \n",
        "Using hamming distance:\n",
        "By looking at the result from validation set, it doesn\n",
        "'''\n",
        "# define the metric we will use to measure similarity\n",
        "# if the input shapes are [1,N1,F] and [N2,1,F] then output shape is [N2,N1]\n",
        "# as numpy supports broadcasting with arithmetic operations\n",
        "# for more on numpy broadcasting refer to: https://numpy.org/doc/stable/user/basics.broadcasting.html\n",
        "euclidean = lambda x1, x2: np.sqrt(np.sum((x1 - x2) ** 2, axis=-1))\n",
        "manhattan = lambda x1, x2: np.sum(np.abs(x1 - x2), axis=-1)\n",
        "def hamming(x1, x2):\n",
        "    arr = np.sum((x1 - x2), axis=-1)\n",
        "    arr[arr != 0] = 1\n",
        "    return arr\n",
        "\n",
        "class KNN:\n",
        "\n",
        "    def __init__(self, K=1, dist_fn=euclidean):\n",
        "        self.dist_fn = dist_fn\n",
        "        self.K = K\n",
        "        return\n",
        "\n",
        "    def fit(self, x, y):\n",
        "        ''' Store the training data using this method as it is a lazy learner'''\n",
        "        self.x = x\n",
        "        self.y = y\n",
        "        self.C = df[\"Class\"].unique().size\n",
        "        return self\n",
        "\n",
        "    def predict(self, x_test):\n",
        "        ''' Makes a prediction using the stored training data and the test data given as argument'''\n",
        "        num_test = x_test.shape[0]\n",
        "        # calculate distance between the training & test samples and returns an array of shape [num_test, num_train]\n",
        "        continous_dist = manhattan(self.x[None, :, 13:], x_test[:, None, 13:])\n",
        "        categorical_dist = hamming(self.x[None, :, :13], x_test[:, None, :13])\n",
        "        # nomalize and add the result\n",
        "        distances = continous_dist / (np.amax(continous_dist) - np.amin(continous_dist)) + categorical_dist\n",
        "        # ith-row of knns stores the indices of k closest training samples to the ith-test sample\n",
        "        knns = np.zeros((num_test, self.K), dtype=int)\n",
        "        # ith-row of y_prob has the probability distribution over C classes\n",
        "        y_prob = np.zeros((num_test, self.C))\n",
        "        for i in range(num_test):\n",
        "            knns[i, :] = np.argsort(distances[i])[:self.K]\n",
        "            # counts the number of instances of each class in the K-closest training samples\n",
        "            count_arr = np.bincount(self.y[knns[i, :]], minlength=3)\n",
        "            y_prob[i, :] = [count_arr[1], count_arr[2]]\n",
        "            # y_prob /= np.sum(y_prob, axis=-1, keepdims=True)\n",
        "        # simply divide by K to get a probability distribution\n",
        "        y_prob /= self.K\n",
        "        return y_prob, knns"
      ],
      "execution_count": 5,
      "outputs": []
    },
    {
      "cell_type": "code",
      "metadata": {
        "id": "2QGY4VaoiPCk"
      },
      "source": [
        "# define the metric we will use to measure similarity\n",
        "# if the input shapes are [1,N1,F] and [N2,1,F] then output shape is [N2,N1]\n",
        "# as numpy supports broadcasting with arithmetic operations\n",
        "# for more on numpy broadcasting refer to: https://numpy.org/doc/stable/user/basics.broadcasting.html\n",
        "euclidean = lambda x1, x2: np.sqrt(np.sum((x1 - x2) ** 2, axis=-1))\n",
        "manhattan = lambda x1, x2: np.sum(np.abs(x1 - x2), axis=-1)\n",
        "def hamming(x1, x2):\n",
        "    arr = np.sum((x1 - x2), axis=-1)\n",
        "    arr[arr != 0] = 1\n",
        "    return arr\n",
        "\n",
        "class KNN:\n",
        "\n",
        "    def __init__(self, K=1, dist_fn=manhattan):\n",
        "        self.dist_fn = dist_fn\n",
        "        self.K = K\n",
        "        return\n",
        "\n",
        "    def fit(self, x, y):\n",
        "        ''' Store the training data using this method as it is a lazy learner'''\n",
        "        self.x = x\n",
        "        self.y = y\n",
        "        self.C = df[\"Class\"].unique().size\n",
        "        return self\n",
        "\n",
        "    def predict(self, x_test):\n",
        "        ''' Makes a prediction using the stored training data and the test data given as argument'''\n",
        "        num_test = x_test.shape[0]\n",
        "        # calculate distance between the training & test samples and returns an array of shape [num_test, num_train]\n",
        "        distances = self.dist_fn(self.x[None, :, :], x_test[:, None, :])\n",
        "        # ith-row of knns stores the indices of k closest training samples to the ith-test sample\n",
        "        knns = np.zeros((num_test, self.K), dtype=int)\n",
        "        # ith-row of y_prob has the probability distribution over C classes\n",
        "        y_prob = np.zeros((num_test, self.C))\n",
        "        for i in range(num_test):\n",
        "            knns[i, :] = np.argsort(distances[i])[:self.K]\n",
        "            # counts the number of instances of each class in the K-closest training samples\n",
        "            count_arr = np.bincount(self.y[knns[i, :]], minlength=3)\n",
        "            y_prob[i, :] = [count_arr[1], count_arr[2]]\n",
        "            # y_prob /= np.sum(y_prob, axis=-1, keepdims=True)\n",
        "        # simply divide by K to get a probability distribution\n",
        "        y_prob /= self.K\n",
        "        return y_prob, knns"
      ],
      "execution_count": 6,
      "outputs": []
    },
    {
      "cell_type": "code",
      "metadata": {
        "id": "bpVwivoyEvUa"
      },
      "source": [
        "def evaluate_acc(K):\n",
        "    model = KNN(K)\n",
        "    y_prob, knns = model.fit(x_train.to_numpy(dtype=np.float), y_train).predict(x_test.to_numpy(dtype=np.float))\n",
        "    y_pred = np.argmax(y_prob, axis=-1)\n",
        "    for i in range(len(y_pred)):\n",
        "        if y_pred[i] == 0:\n",
        "            y_pred[i] = 1\n",
        "        else:\n",
        "            y_pred[i] = 2\n",
        "    accuracy = np.sum(y_pred == y_test) / y_test.shape[0]\n",
        "    print(f'accuracy is {accuracy * 100:.1f}.')\n",
        "    return accuracy\n",
        "\n",
        "# #define a function for the MSE loss\n",
        "# loss = lambda y, yh: np.mean((y-yh)**2)\n",
        "\n",
        "# def mse(K):\n",
        "#     model = KNN(K)\n",
        "#     y_prob, knns = model.fit(x_train.to_numpy(dtype=np.float), y_train).predict(x_val.to_numpy(dtype=np.float))\n",
        "#     y_pred = np.argmax(y_prob, axis=-1)\n",
        "#     for i in range(len(y_pred)):\n",
        "#         if y_pred[i] == 0:\n",
        "#             y_pred[i] = 1\n",
        "#         else:\n",
        "#             y_pred[i] = 2\n",
        "#     return loss(y_pred, y_val)\n",
        "\n",
        "def evaluate_acc_val(K):\n",
        "    model = KNN(K)\n",
        "    y_prob, knns = model.fit(x_train.to_numpy(dtype=np.float), y_train).predict(x_val.to_numpy(dtype=np.float))\n",
        "    y_pred = np.argmax(y_prob, axis=-1)\n",
        "    for i in range(len(y_pred)):\n",
        "        if y_pred[i] == 0:\n",
        "            y_pred[i] = 1\n",
        "        else:\n",
        "            y_pred[i] = 2\n",
        "    accuracy = np.sum(y_pred == y_val) / y_val.shape[0]\n",
        "    # print(f'accuracy is {accuracy * 100:.1f}.')\n",
        "    return accuracy\n"
      ],
      "execution_count": 7,
      "outputs": []
    },
    {
      "cell_type": "code",
      "metadata": {
        "colab": {
          "base_uri": "https://localhost:8080/",
          "height": 283
        },
        "id": "eZ953k_Vkt7Z",
        "outputId": "85e3c749-7020-469b-b467-dbe69c3ec1e4"
      },
      "source": [
        "K_list = range(1,15)\n",
        "err_valid = []\n",
        "for K in K_list:\n",
        "    err_valid.append(evaluate_acc_val(K))\n",
        "    \n",
        "plt.plot(K_list, err_valid, label='valid')\n",
        "\n",
        "plt.legend()\n",
        "plt.xlabel('K (number of neighbours)')\n",
        "plt.ylabel('Validation set accuracy')\n",
        "plt.ylim(0.5, 1)\n",
        "plt.show()"
      ],
      "execution_count": 8,
      "outputs": [
        {
          "output_type": "display_data",
          "data": {
            "image/png": "[encoded data removed]",
            "text/plain": [
              "<Figure size 432x288 with 1 Axes>"
            ]
          },
          "metadata": {
            "tags": [],
            "needs_background": "light"
          }
        }
      ]
    },
    {
      "cell_type": "code",
      "metadata": {
        "colab": {
          "base_uri": "https://localhost:8080/"
        },
        "id": "rkcGZzTkgwqo",
        "outputId": "44e2cdd2-3feb-45f4-8977-45ce230c8c30"
      },
      "source": [
        "accuracy = evaluate_acc(3)"
      ],
      "execution_count": 9,
      "outputs": [
        {
          "output_type": "stream",
          "text": [
            "accuracy is 81.2.\n"
          ],
          "name": "stdout"
        }
      ]
    },
    {
      "cell_type": "markdown",
      "metadata": {
        "id": "33U5R8bsIro9"
      },
      "source": [
        "## Decision Tree"
      ]
    },
    {
      "cell_type": "code",
      "metadata": {
        "id": "oSZCYe_iutT7",
        "colab": {
          "base_uri": "https://localhost:8080/"
        },
        "outputId": "68784389-eed5-4f9b-8227-946b8ddd5d73"
      },
      "source": [
        "x, y = df.loc[:,\"AGE\":\"HISTOLOGY\"], df.loc[:,[\"Class\"]]                   #slices the first two columns or features from the data\r\n",
        "\r\n",
        "#print the feature shape and classes of dataset \r\n",
        "(N,D), C = x.shape, df[\"Class\"].unique().size\r\n",
        "print(f'instances (N) \\t {N} \\n features (D) \\t {D} \\n classes (C) \\t {C}')\r\n",
        "\r\n",
        "train_num = int(N * 0.6)\r\n",
        "val_num = int(N * 0.8)\r\n",
        "inds = np.random.permutation(N)                                                     #generates an indices array from 0 to N-1 and permutes it \r\n",
        "\r\n",
        "#split the dataset into train, validation and test\r\n",
        "x_train, y_train = x.loc[inds[:train_num],], y.loc[inds[:train_num],].to_numpy(dtype=np.int16).flatten()\r\n",
        "x_val, y_val = x.loc[inds[train_num:val_num],], y.loc[inds[train_num:val_num],].to_numpy(dtype=np.int16).flatten()\r\n",
        "x_test, y_test = x.loc[inds[val_num:],], y.loc[inds[val_num:],].to_numpy(dtype=np.int16).flatten()"
      ],
      "execution_count": 10,
      "outputs": [
        {
          "output_type": "stream",
          "text": [
            "instances (N) \t 80 \n",
            " features (D) \t 19 \n",
            " classes (C) \t 2\n"
          ],
          "name": "stdout"
        }
      ]
    },
    {
      "cell_type": "code",
      "metadata": {
        "id": "NEwmX3Xi92UY"
      },
      "source": [
        "class Node:\n",
        "    def __init__(self, data_indices, parent):\n",
        "        self.data_indices = data_indices                    #stores the data indices which are in the region defined by this node\n",
        "        self.left = None                                    #stores the left child of the node \n",
        "        self.right = None                                   #stores the right child of the node\n",
        "        self.split_feature = None                           #the feature for split at this node\n",
        "        self.split_value = None                             #the value of the feature for split at this node\n",
        "        if parent:\n",
        "            self.depth = parent.depth + 1                   #obtain the dept of the node by adding one to dept of the parent \n",
        "            self.num_classes = parent.num_classes           #copies the num classes from the parent \n",
        "            self.data = parent.data                         #copies the data from the parent\n",
        "            self.labels = parent.labels                     #copies the labels from the parent\n",
        "            class_prob = np.bincount(self.labels[data_indices], minlength=self.num_classes) #this is counting frequency of different labels in the region defined by this node\n",
        "            self.class_prob = class_prob / np.sum(class_prob)  #stores the class probability for the node\n",
        "            #note that we'll use the class probabilites of the leaf nodes for making predictions after the tree is built"
      ],
      "execution_count": 11,
      "outputs": []
    },
    {
      "cell_type": "code",
      "metadata": {
        "id": "fJclNLqw92Ub"
      },
      "source": [
        "def greedy_test(node, cost_fn):\n",
        "    if type(node.data) != np.ndarray:\n",
        "        node.data = node.data.to_numpy(dtype=np.float64)\n",
        "    #initialize the best parameter values\n",
        "    best_cost = np.inf\n",
        "    best_feature, best_value = None, None\n",
        "    num_instances, num_features = node.data.shape\n",
        "    #sort the features to get the test value candidates by taking the average of consecutive sorted feature values \n",
        "    data_sorted = np.sort(node.data[node.data_indices],axis=0)\n",
        "    test_candidates = (data_sorted[1:] + data_sorted[:-1]) / 2.\n",
        "    for f in range(num_features):\n",
        "        #stores the data corresponding to the f-th feature\n",
        "        data_f = node.data[node.data_indices, f]\n",
        "        for test in test_candidates[:,f]:\n",
        "            #Split the indices using the test value of f-th feature\n",
        "            left_indices = node.data_indices[data_f <= test]\n",
        "            right_indices = node.data_indices[data_f > test]\n",
        "            #we can't have a split where a child has zero element\n",
        "            #if this is true over all the test features and their test values  then the function returns the best cost as infinity\n",
        "            if len(left_indices) == 0 or len(right_indices) == 0:                \n",
        "                continue\n",
        "            #compute the left and right cost based on the current split                                                         \n",
        "            left_cost = cost_fn(node.labels[left_indices])\n",
        "            right_cost = cost_fn(node.labels[right_indices])\n",
        "            num_left, num_right = left_indices.shape[0], right_indices.shape[0]\n",
        "            #get the combined cost using the weighted sum of left and right cost\n",
        "            cost = (num_left * left_cost + num_right * right_cost)/num_instances\n",
        "            #update only when a lower cost is encountered\n",
        "            if cost < best_cost:\n",
        "                best_cost = cost\n",
        "                best_feature = f\n",
        "                best_value = test\n",
        "    return best_cost, best_feature, best_value"
      ],
      "execution_count": 12,
      "outputs": []
    },
    {
      "cell_type": "code",
      "metadata": {
        "id": "_Fa_FkuK92Uf"
      },
      "source": [
        "#computes misclassification cost by subtracting the maximum probability of any class\n",
        "def cost_misclassification(labels):\n",
        "    counts = np.bincount(labels) \n",
        "    class_probs = counts / np.sum(counts)\n",
        "    #you could compress both the steps above by doing class_probs = np.bincount(labels) / len(labels)\n",
        "    return 1 - np.max(class_probs)\n",
        "\n",
        "#computes entropy of the labels by computing the class probabilities\n",
        "def cost_entropy(labels):\n",
        "    class_probs = np.bincount(labels) / len(labels)\n",
        "    class_probs = class_probs[class_probs > 0]              #this steps is remove 0 probabilities for removing numerical issues while computing log\n",
        "    return -np.sum(class_probs * np.log(class_probs))       #expression for entropy -\\sigma p(x)log[p(x)]\n",
        "\n",
        "#computes the gini index cost\n",
        "def cost_gini_index(labels):\n",
        "    class_probs = np.bincount(labels) / len(labels)\n",
        "    return 1 - np.sum(np.square(class_probs))               #expression for gini index 1-\\sigma p(x)^2"
      ],
      "execution_count": 13,
      "outputs": []
    },
    {
      "cell_type": "code",
      "metadata": {
        "id": "kMx7Brw292Uh"
      },
      "source": [
        "class DecisionTree:\n",
        "    def __init__(self, num_classes=None, max_depth=3, cost_fn=cost_misclassification, min_leaf_instances=1):\n",
        "        self.max_depth = max_depth      #maximum dept for termination \n",
        "        self.root = None                #stores the root of the decision tree \n",
        "        self.cost_fn = cost_fn          #stores the cost function of the decision tree \n",
        "        self.num_classes = num_classes  #stores the total number of classes\n",
        "        self.min_leaf_instances = min_leaf_instances  #minimum number of instances in a leaf for termination\n",
        "        \n",
        "    def fit(self, data, labels):\n",
        "        pass                            #pass in python 3 means nothing happens and the method here is empty\n",
        "    \n",
        "    def predict(self, data_test):\n",
        "        pass"
      ],
      "execution_count": 14,
      "outputs": []
    },
    {
      "cell_type": "code",
      "metadata": {
        "id": "-NOsuJEc92Ul"
      },
      "source": [
        "def fit(self, data, labels):\n",
        "    self.data = data\n",
        "    self.labels = labels\n",
        "    if self.num_classes is None:\n",
        "        self.num_classes = np.max(labels) + 1\n",
        "    #below are initialization of the root of the decision tree\n",
        "    self.root = Node(np.arange(data.shape[0]), None)\n",
        "    self.root.data = data\n",
        "    self.root.labels = labels\n",
        "    self.root.num_classes = self.num_classes\n",
        "    self.root.depth = 0\n",
        "    #to recursively build the rest of the tree\n",
        "    self._fit_tree(self.root)\n",
        "    return self\n",
        "\n",
        "def _fit_tree(self, node):\n",
        "    #This gives the condition for termination of the recursion resulting in a leaf node\n",
        "    if node.depth == self.max_depth or len(node.data_indices) <= self.min_leaf_instances:\n",
        "        return\n",
        "    #greedily select the best test by minimizing the cost\n",
        "    cost, split_feature, split_value = greedy_test(node, self.cost_fn)\n",
        "    #if the cost returned is infinity it means that it is not possible to split the node and hence terminate\n",
        "    if np.isinf(cost):\n",
        "        return\n",
        "    #print(f'best feature: {split_feature}, value {split_value}, cost {cost}')\n",
        "    #to get a boolean array suggesting which data indices corresponding to this node are in the left of the split\n",
        "    test = node.data[node.data_indices,split_feature] <= split_value\n",
        "    #store the split feature and value of the node\n",
        "    node.split_feature = split_feature\n",
        "    node.split_value = split_value\n",
        "    #define new nodes which are going to be the left and right child of the present node\n",
        "    left = Node(node.data_indices[test], node)\n",
        "    right = Node(node.data_indices[np.logical_not(test)], node)\n",
        "    #recursive call to the _fit_tree()\n",
        "    self._fit_tree(left)\n",
        "    self._fit_tree(right)\n",
        "    #assign the left and right child to present child\n",
        "    node.left = left\n",
        "    node.right = right\n",
        "\n",
        "DecisionTree.fit = fit\n",
        "DecisionTree._fit_tree = _fit_tree"
      ],
      "execution_count": 15,
      "outputs": []
    },
    {
      "cell_type": "code",
      "metadata": {
        "id": "dLmilufw92Uu"
      },
      "source": [
        "def predict(self, data_test):\n",
        "    data_test = data_test.to_numpy(dtype=np.float64)\n",
        "    class_probs = np.zeros((data_test.shape[0], self.num_classes))\n",
        "    for n, x in enumerate(data_test):\n",
        "        node = self.root\n",
        "        #loop along the dept of the tree looking region where the present data sample fall in based on the split feature and value\n",
        "        while node.left:\n",
        "            if x[node.split_feature] <= node.split_value:\n",
        "                node = node.left\n",
        "            else:\n",
        "                node = node.right\n",
        "        #the loop terminates when you reach a leaf of the tree and the class probability of that node is taken for prediction\n",
        "        class_probs[n,:] = node.class_prob\n",
        "    return class_probs\n",
        "\n",
        "DecisionTree.predict = predict"
      ],
      "execution_count": 16,
      "outputs": []
    },
    {
      "cell_type": "code",
      "metadata": {
        "id": "RspRPVM3uXjZ"
      },
      "source": [
        "def evaluate_acc(d):\n",
        "    tree = DecisionTree(max_depth=d)\n",
        "    probs_test = tree.fit(x_train, y_train).predict(x_test)\n",
        "    y_pred = np.argmax(probs_test,1)\n",
        "    accuracy = np.sum(y_pred == y_test)/y_test.shape[0]\n",
        "    print(f'accuracy is {accuracy*100:.1f}.')\n",
        "    return accuracy\n",
        "\n",
        "# #define a function for the MSE loss\n",
        "# loss = lambda y, yh: np.mean((y-yh)**2)\n",
        "\n",
        "# def mse(max_depth):\n",
        "#     tree = DecisionTree(max_depth)\n",
        "#     probs_test = tree.fit(x_train, y_train).predict(x_val)\n",
        "#     y_pred = np.argmax(probs_test,1)\n",
        "#     return loss(y_pred, y_val)\n",
        "\n",
        "def evaluate_acc_val(d):\n",
        "    tree = DecisionTree(max_depth=d)\n",
        "    probs_test = tree.fit(x_train, y_train).predict(x_val)\n",
        "    y_pred = np.argmax(probs_test,1)\n",
        "    accuracy = np.sum(y_pred == y_val)/y_val.shape[0]\n",
        "    # print(f'accuracy is {accuracy*100:.1f}.')\n",
        "    return accuracy"
      ],
      "execution_count": 17,
      "outputs": []
    },
    {
      "cell_type": "code",
      "metadata": {
        "colab": {
          "base_uri": "https://localhost:8080/",
          "height": 283
        },
        "id": "GfsndoFkuXja",
        "outputId": "b1f8b81d-556b-4fe1-90a0-8970da4cfdbe"
      },
      "source": [
        "depth_list = [i for i in range(1,15)]\n",
        "err_valid = []\n",
        "for d in depth_list:\n",
        "    err_valid.append(evaluate_acc_val(d))\n",
        "    \n",
        "plt.plot(depth_list, err_valid, label='valid')\n",
        "\n",
        "plt.legend()\n",
        "plt.xlabel('Tree depth')\n",
        "plt.ylabel('Validation set accuracy')\n",
        "plt.ylim(0.5, 1)\n",
        "plt.show()"
      ],
      "execution_count": 18,
      "outputs": [
        {
          "output_type": "display_data",
          "data": {
            "image/png": "[encoded data removed]",
            "text/plain": [
              "<Figure size 432x288 with 1 Axes>"
            ]
          },
          "metadata": {
            "tags": [],
            "needs_background": "light"
          }
        }
      ]
    },
    {
      "cell_type": "code",
      "metadata": {
        "colab": {
          "base_uri": "https://localhost:8080/"
        },
        "id": "5u6s-XtquXja",
        "outputId": "19609296-56b8-4816-90c4-ebe72fbe629b"
      },
      "source": [
        "evaluate_acc(4)"
      ],
      "execution_count": 19,
      "outputs": [
        {
          "output_type": "stream",
          "text": [
            "accuracy is 93.8.\n"
          ],
          "name": "stdout"
        },
        {
          "output_type": "execute_result",
          "data": {
            "text/plain": [
              "0.9375"
            ]
          },
          "metadata": {
            "tags": []
          },
          "execution_count": 19
        }
      ]
    },
    {
      "cell_type": "code",
      "metadata": {
        "colab": {
          "base_uri": "https://localhost:8080/",
          "height": 279
        },
        "id": "Vhthz9V0qj4n",
        "outputId": "41c4fc98-bbcd-4a3b-e00e-8af57f612038"
      },
      "source": [
        "''' Decision boundary '''\n",
        "y_train2 = np.copy(y_train)\n",
        "for i in range(0, len(y_train2)):\n",
        "    if y_train2[i] == 1:\n",
        "        y_train2[i] = 0\n",
        "    elif y_train2[i] == 2:\n",
        "        y_train2[i] = 1\n",
        "x_all = x\n",
        "model = DecisionTree(max_depth=3)\n",
        "y_train_prob = np.zeros((y_train.shape[0], 2))\n",
        "y_train_prob[np.arange(y_train.shape[0]), y_train2] = 1\n",
        "y_prob_all = model.fit(x_train, y_train).predict(x_all)\n",
        "z = np.zeros((y_train_prob.shape[0],1), dtype=np.int16)\n",
        "y_train_prob2 = np.append(y_train_prob, z, axis=1)\n",
        "plt.scatter(x_train.iloc[:,2], x_train.iloc[:,3], c=y_train_prob2, marker='o', alpha=1)\n",
        "plt.scatter(x_all.iloc[:,2], x_all.iloc[:,3], c=y_prob_all[:, [1, 2, 0]], marker='.', alpha=.01)\n",
        "plt.ylabel('Antivirals')\n",
        "plt.xlabel('Steroid')\n",
        "plt.show()"
      ],
      "execution_count": 20,
      "outputs": [
        {
          "output_type": "display_data",
          "data": {
            "image/png": "[encoded data removed]",
            "text/plain": [
              "<Figure size 432x288 with 1 Axes>"
            ]
          },
          "metadata": {
            "tags": [],
            "needs_background": "light"
          }
        }
      ]
    }
  ]
}