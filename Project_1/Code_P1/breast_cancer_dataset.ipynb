{
  "nbformat": 4,
  "nbformat_minor": 0,
  "metadata": {
    "colab": {
      "name": "breast_cancer_dataset.ipynb",
      "provenance": [],
      "collapsed_sections": [
        "qiktq3ofql0d"
      ],
      "toc_visible": true
    },
    "kernelspec": {
      "name": "python3",
      "display_name": "Python 3"
    }
  },
  "cells": [
    {
      "cell_type": "markdown",
      "metadata": {
        "id": "SVP6T3vlrpHu"
      },
      "source": [
        "# Mini Project 1"
      ]
    },
    {
      "cell_type": "markdown",
      "metadata": {
        "id": "bHI5w4gN_ABw"
      },
      "source": [
        "# Breast Cancer Wisconsin (Diagnostic) Data Set\n",
        "https://archive.ics.uci.edu/ml/datasets/Breast+Cancer+Wisconsin+(Diagnostic)"
      ]
    },
    {
      "cell_type": "code",
      "metadata": {
        "id": "vFYelb1rylz0"
      },
      "source": [
        "import pandas as pd\n",
        "import numpy as np\n",
        "\n",
        "#the output of plotting commands is displayed inline within frontends\n",
        "%matplotlib inline                                  \n",
        "import matplotlib.pyplot as plt\n",
        "\n",
        "#it is important to set the seed for reproducibility as it initializes the random number generator\n",
        "np.random.seed(1234)"
      ],
      "execution_count": 1,
      "outputs": []
    },
    {
      "cell_type": "markdown",
      "metadata": {
        "id": "QzJDo0inp2cY"
      },
      "source": [
        "## Data processing"
      ]
    },
    {
      "cell_type": "code",
      "metadata": {
        "colab": {
          "base_uri": "https://localhost:8080/",
          "height": 419
        },
        "id": "cOR3TPQgq583",
        "outputId": "981bd6c8-9da4-4bae-f949-3d969cbf222a"
      },
      "source": [
        "df = pd.read_csv(\"/content/breast_cancer_wisconsin.csv\")\n",
        "df.drop_duplicates(subset=None, keep='first', inplace=True) # remove duplicated rows\n",
        "df = df[~df.eq('?').any(1)] # remove missing data \n",
        "df = df.reset_index(drop=True)\n",
        "df"
      ],
      "execution_count": 2,
      "outputs": [
        {
          "output_type": "execute_result",
          "data": {
            "text/html": [
              "<div>\n",
              "<style scoped>\n",
              "    .dataframe tbody tr th:only-of-type {\n",
              "        vertical-align: middle;\n",
              "    }\n",
              "\n",
              "    .dataframe tbody tr th {\n",
              "        vertical-align: top;\n",
              "    }\n",
              "\n",
              "    .dataframe thead th {\n",
              "        text-align: right;\n",
              "    }\n",
              "</style>\n",
              "<table border=\"1\" class=\"dataframe\">\n",
              "  <thead>\n",
              "    <tr style=\"text-align: right;\">\n",
              "      <th></th>\n",
              "      <th>id</th>\n",
              "      <th>Clump_Thickness</th>\n",
              "      <th>Uniformity_of_Cell_Size</th>\n",
              "      <th>Uniformity_of_Cell_Shape</th>\n",
              "      <th>Marginal_Adhesion</th>\n",
              "      <th>Single_Epithelial_Cell_Size</th>\n",
              "      <th>Bare_Nuclei</th>\n",
              "      <th>Bland_Chromatin</th>\n",
              "      <th>Normal_Nucleoli</th>\n",
              "      <th>Mitoses</th>\n",
              "      <th>Class</th>\n",
              "    </tr>\n",
              "  </thead>\n",
              "  <tbody>\n",
              "    <tr>\n",
              "      <th>0</th>\n",
              "      <td>1000025</td>\n",
              "      <td>5</td>\n",
              "      <td>1</td>\n",
              "      <td>1</td>\n",
              "      <td>1</td>\n",
              "      <td>2</td>\n",
              "      <td>1</td>\n",
              "      <td>3</td>\n",
              "      <td>1</td>\n",
              "      <td>1</td>\n",
              "      <td>2</td>\n",
              "    </tr>\n",
              "    <tr>\n",
              "      <th>1</th>\n",
              "      <td>1002945</td>\n",
              "      <td>5</td>\n",
              "      <td>4</td>\n",
              "      <td>4</td>\n",
              "      <td>5</td>\n",
              "      <td>7</td>\n",
              "      <td>10</td>\n",
              "      <td>3</td>\n",
              "      <td>2</td>\n",
              "      <td>1</td>\n",
              "      <td>2</td>\n",
              "    </tr>\n",
              "    <tr>\n",
              "      <th>2</th>\n",
              "      <td>1015425</td>\n",
              "      <td>3</td>\n",
              "      <td>1</td>\n",
              "      <td>1</td>\n",
              "      <td>1</td>\n",
              "      <td>2</td>\n",
              "      <td>2</td>\n",
              "      <td>3</td>\n",
              "      <td>1</td>\n",
              "      <td>1</td>\n",
              "      <td>2</td>\n",
              "    </tr>\n",
              "    <tr>\n",
              "      <th>3</th>\n",
              "      <td>1016277</td>\n",
              "      <td>6</td>\n",
              "      <td>8</td>\n",
              "      <td>8</td>\n",
              "      <td>1</td>\n",
              "      <td>3</td>\n",
              "      <td>4</td>\n",
              "      <td>3</td>\n",
              "      <td>7</td>\n",
              "      <td>1</td>\n",
              "      <td>2</td>\n",
              "    </tr>\n",
              "    <tr>\n",
              "      <th>4</th>\n",
              "      <td>1017023</td>\n",
              "      <td>4</td>\n",
              "      <td>1</td>\n",
              "      <td>1</td>\n",
              "      <td>3</td>\n",
              "      <td>2</td>\n",
              "      <td>1</td>\n",
              "      <td>3</td>\n",
              "      <td>1</td>\n",
              "      <td>1</td>\n",
              "      <td>2</td>\n",
              "    </tr>\n",
              "    <tr>\n",
              "      <th>...</th>\n",
              "      <td>...</td>\n",
              "      <td>...</td>\n",
              "      <td>...</td>\n",
              "      <td>...</td>\n",
              "      <td>...</td>\n",
              "      <td>...</td>\n",
              "      <td>...</td>\n",
              "      <td>...</td>\n",
              "      <td>...</td>\n",
              "      <td>...</td>\n",
              "      <td>...</td>\n",
              "    </tr>\n",
              "    <tr>\n",
              "      <th>670</th>\n",
              "      <td>776715</td>\n",
              "      <td>3</td>\n",
              "      <td>1</td>\n",
              "      <td>1</td>\n",
              "      <td>1</td>\n",
              "      <td>3</td>\n",
              "      <td>2</td>\n",
              "      <td>1</td>\n",
              "      <td>1</td>\n",
              "      <td>1</td>\n",
              "      <td>2</td>\n",
              "    </tr>\n",
              "    <tr>\n",
              "      <th>671</th>\n",
              "      <td>841769</td>\n",
              "      <td>2</td>\n",
              "      <td>1</td>\n",
              "      <td>1</td>\n",
              "      <td>1</td>\n",
              "      <td>2</td>\n",
              "      <td>1</td>\n",
              "      <td>1</td>\n",
              "      <td>1</td>\n",
              "      <td>1</td>\n",
              "      <td>2</td>\n",
              "    </tr>\n",
              "    <tr>\n",
              "      <th>672</th>\n",
              "      <td>888820</td>\n",
              "      <td>5</td>\n",
              "      <td>10</td>\n",
              "      <td>10</td>\n",
              "      <td>3</td>\n",
              "      <td>7</td>\n",
              "      <td>3</td>\n",
              "      <td>8</td>\n",
              "      <td>10</td>\n",
              "      <td>2</td>\n",
              "      <td>4</td>\n",
              "    </tr>\n",
              "    <tr>\n",
              "      <th>673</th>\n",
              "      <td>897471</td>\n",
              "      <td>4</td>\n",
              "      <td>8</td>\n",
              "      <td>6</td>\n",
              "      <td>4</td>\n",
              "      <td>3</td>\n",
              "      <td>4</td>\n",
              "      <td>10</td>\n",
              "      <td>6</td>\n",
              "      <td>1</td>\n",
              "      <td>4</td>\n",
              "    </tr>\n",
              "    <tr>\n",
              "      <th>674</th>\n",
              "      <td>897471</td>\n",
              "      <td>4</td>\n",
              "      <td>8</td>\n",
              "      <td>8</td>\n",
              "      <td>5</td>\n",
              "      <td>4</td>\n",
              "      <td>5</td>\n",
              "      <td>10</td>\n",
              "      <td>4</td>\n",
              "      <td>1</td>\n",
              "      <td>4</td>\n",
              "    </tr>\n",
              "  </tbody>\n",
              "</table>\n",
              "<p>675 rows × 11 columns</p>\n",
              "</div>"
            ],
            "text/plain": [
              "          id  Clump_Thickness  ...  Mitoses  Class\n",
              "0    1000025                5  ...        1      2\n",
              "1    1002945                5  ...        1      2\n",
              "2    1015425                3  ...        1      2\n",
              "3    1016277                6  ...        1      2\n",
              "4    1017023                4  ...        1      2\n",
              "..       ...              ...  ...      ...    ...\n",
              "670   776715                3  ...        1      2\n",
              "671   841769                2  ...        1      2\n",
              "672   888820                5  ...        2      4\n",
              "673   897471                4  ...        1      4\n",
              "674   897471                4  ...        1      4\n",
              "\n",
              "[675 rows x 11 columns]"
            ]
          },
          "metadata": {
            "tags": []
          },
          "execution_count": 2
        }
      ]
    },
    {
      "cell_type": "code",
      "metadata": {
        "colab": {
          "base_uri": "https://localhost:8080/",
          "height": 433
        },
        "id": "1-f3LpC0AvwW",
        "outputId": "be44f106-b2ef-46c1-ffd2-3c585c5cf6e8"
      },
      "source": [
        "means = df.drop(columns=[\"id\"]).groupby(by=[\"Class\"]).mean()\n",
        "\n",
        "#visualization of the data\n",
        "label_names = list(means.columns)\n",
        "for i, label in enumerate(label_names):\n",
        "    print(i + 1, label)\n",
        "labels = [i for i in range(1, 9)]\n",
        "\n",
        "class2_means = means.iloc[0]\n",
        "class4_means = means.iloc[1]\n",
        "\n",
        "x = np.arange(len(labels))  # the label locations\n",
        "width = 0.35  # the width of the bars\n",
        "\n",
        "fig, ax = plt.subplots()\n",
        "rects1 = ax.bar(x - width/2, class2_means, width, label='class 2')\n",
        "rects2 = ax.bar(x + width/2, class4_means, width, label='class 4')\n",
        "\n",
        "# Add some text for labels, title and custom x-axis tick labels, etc.\n",
        "ax.set_ylabel('Mean Values')\n",
        "# ax.set_title('')\n",
        "ax.set_xticks(x)\n",
        "ax.set_xticklabels(labels)\n",
        "ax.legend()\n",
        "fig.tight_layout()\n",
        "plt.show()"
      ],
      "execution_count": 3,
      "outputs": [
        {
          "output_type": "stream",
          "text": [
            "1 Clump_Thickness\n",
            "2 Uniformity_of_Cell_Size\n",
            "3 Uniformity_of_Cell_Shape\n",
            "4 Marginal_Adhesion\n",
            "5 Single_Epithelial_Cell_Size\n",
            "6 Bland_Chromatin\n",
            "7 Normal_Nucleoli\n",
            "8 Mitoses\n"
          ],
          "name": "stdout"
        },
        {
          "output_type": "display_data",
          "data": {
            "image/png": "[encoded data removed]",
            "text/plain": [
              "<Figure size 432x288 with 1 Axes>"
            ]
          },
          "metadata": {
            "tags": [],
            "needs_background": "light"
          }
        }
      ]
    },
    {
      "cell_type": "code",
      "metadata": {
        "tags": [],
        "id": "uWu7gTJWhndd",
        "colab": {
          "base_uri": "https://localhost:8080/"
        },
        "outputId": "3d262551-01b6-40e0-81f9-c508ce727fcd"
      },
      "source": [
        "x, y = df.loc[:,\"Clump_Thickness\":\"Mitoses\"], df.loc[:,[\"Class\"]]                   #slices the first two columns or features from the data\n",
        "\n",
        "#print the feature shape and classes of dataset \n",
        "(N,D), C = x.shape, df[\"Class\"].unique().size\n",
        "print(f'instances (N) \\t {N} \\n features (D) \\t {D} \\n classes (C) \\t {C}')\n",
        "\n",
        "train_num = int(N * 0.7)\n",
        "val_num = int(N * 0.85)\n",
        "inds = np.random.permutation(N)                                                     #generates an indices array from 0 to N-1 and permutes it \n",
        "\n",
        "#split the dataset into train, validation and test\n",
        "x_train, y_train = x.loc[inds[:train_num],], y.loc[inds[:train_num],].to_numpy(dtype=np.int16).flatten()\n",
        "x_val, y_val = x.loc[inds[train_num:val_num],], y.loc[inds[train_num:val_num],].to_numpy(dtype=np.int16).flatten()\n",
        "x_test, y_test = x.loc[inds[val_num:],], y.loc[inds[val_num:],].to_numpy(dtype=np.int16).flatten()"
      ],
      "execution_count": 4,
      "outputs": [
        {
          "output_type": "stream",
          "text": [
            "instances (N) \t 675 \n",
            " features (D) \t 9 \n",
            " classes (C) \t 2\n"
          ],
          "name": "stdout"
        }
      ]
    },
    {
      "cell_type": "markdown",
      "metadata": {
        "id": "BuXp0MufIe72"
      },
      "source": [
        "## KNN"
      ]
    },
    {
      "cell_type": "code",
      "metadata": {
        "id": "SX0Oul88hndj"
      },
      "source": [
        "#define the metric we will use to measure similarity\n",
        "#if the input shapes are [1,N1,F] and [N2,1,F] then output shape is [N2,N1]\n",
        "#as numpy supports broadcasting with arithmetic operations\n",
        "#for more on numpy broadcasting refer to: https://numpy.org/doc/stable/user/basics.broadcasting.html   \n",
        "euclidean = lambda x1, x2: np.sqrt(np.sum((x1 - x2)**2, axis=-1))\n",
        "manhattan = lambda x1, x2: np.sum(np.abs(x1 - x2), axis=-1)\n",
        "\n",
        "class KNN:\n",
        "\n",
        "    def __init__(self, K=1, dist_fn= euclidean):\n",
        "        self.dist_fn = dist_fn\n",
        "        self.K = K\n",
        "        return\n",
        "    \n",
        "    def fit(self, x, y):\n",
        "        ''' Store the training data using this method as it is a lazy learner'''\n",
        "        self.x = x\n",
        "        self.y = y\n",
        "        self.C = df[\"Class\"].unique().size\n",
        "        return self\n",
        "    \n",
        "    def predict(self, x_test):\n",
        "        ''' Makes a prediction using the stored training data and the test data given as argument'''\n",
        "        num_test = x_test.shape[0]\n",
        "        #calculate distance between the training & test samples and returns an array of shape [num_test, num_train]\n",
        "        distances = self.dist_fn(self.x[None,:,:], x_test[:,None,:])\n",
        "        #ith-row of knns stores the indices of k closest training samples to the ith-test sample \n",
        "        knns = np.zeros((num_test, self.K), dtype=int)\n",
        "        #ith-row of y_prob has the probability distribution over C classes\n",
        "        y_prob = np.zeros((num_test, self.C))\n",
        "        for i in range(num_test):\n",
        "            knns[i,:] = np.argsort(distances[i])[:self.K]\n",
        "            #counts the number of instances of each class in the K-closest training samples\n",
        "            count_arr = np.bincount(self.y[knns[i,:]], minlength=5)\n",
        "            y_prob[i,:] = [count_arr[2], count_arr[4]] \n",
        "        #y_prob /= np.sum(y_prob, axis=-1, keepdims=True)\n",
        "        #simply divide by K to get a probability distribution\n",
        "        y_prob /= self.K\n",
        "        return y_prob, knns"
      ],
      "execution_count": 5,
      "outputs": []
    },
    {
      "cell_type": "code",
      "metadata": {
        "colab": {
          "base_uri": "https://localhost:8080/"
        },
        "id": "w00vPRHXycu2",
        "outputId": "52536d8e-1f55-445b-dbfb-5a70ec5323df"
      },
      "source": [
        "model = KNN(K=3)\n",
        "\n",
        "y_prob, knns = model.fit(x_train.to_numpy(dtype=np.int16), y_train).predict(x_test.to_numpy(dtype=np.int16))\n",
        "print('knns shape:', knns.shape)\n",
        "print('y_prob shape:', y_prob.shape)\n",
        "\n",
        "#To get hard predictions by choosing the class with the maximum probability\n",
        "y_pred = np.argmax(y_prob,axis=-1)\n",
        "for i in range(len(y_pred)):\n",
        "    if y_pred[i] == 0:\n",
        "        y_pred[i] = 2\n",
        "    else:\n",
        "        y_pred[i] = 4\n",
        "accuracy = np.sum(y_pred == y_test)/y_test.shape[0]\n",
        "\n",
        "print(f'accuracy is {accuracy*100:.1f}.')\n",
        "\n",
        "#boolean array to later slice the indexes of correct and incorrect predictions\n",
        "correct = y_test == y_pred\n",
        "incorrect = np.logical_not(correct)"
      ],
      "execution_count": 6,
      "outputs": [
        {
          "output_type": "stream",
          "text": [
            "knns shape: (102, 3)\n",
            "y_prob shape: (102, 2)\n",
            "accuracy is 96.1.\n"
          ],
          "name": "stdout"
        }
      ]
    },
    {
      "cell_type": "code",
      "metadata": {
        "id": "Pjrp1JQioin1"
      },
      "source": [
        "def evaluate_acc(K):\n",
        "    model = KNN(K)\n",
        "    y_prob, knns = model.fit(x_train.to_numpy(dtype=np.float), y_train).predict(x_test.to_numpy(dtype=np.float))\n",
        "    y_pred = np.argmax(y_prob, axis=-1)\n",
        "    for i in range(len(y_pred)):\n",
        "        if y_pred[i] == 0:\n",
        "            y_pred[i] = 2\n",
        "        else:\n",
        "            y_pred[i] = 4\n",
        "    accuracy = np.sum(y_pred == y_test) / y_test.shape[0]\n",
        "    print(f'accuracy is {accuracy * 100:.1f}.')\n",
        "    return accuracy\n",
        "\n",
        "# #define a function for the MSE loss\n",
        "# loss = lambda y, yh: np.mean((y-yh)**2)\n",
        "\n",
        "# def mse(K):\n",
        "#     model = KNN(K)\n",
        "#     y_prob, knns = model.fit(x_train.to_numpy(dtype=np.float), y_train).predict(x_val.to_numpy(dtype=np.float))\n",
        "#     y_pred = np.argmax(y_prob, axis=-1)\n",
        "#     for i in range(len(y_pred)):\n",
        "#         if y_pred[i] == 0:\n",
        "#             y_pred[i] = 2\n",
        "#         else:\n",
        "#             y_pred[i] = 4\n",
        "#     return loss(y_pred, y_val)\n",
        "\n",
        "def evaluate_acc_val(K):\n",
        "    model = KNN(K)\n",
        "    y_prob, knns = model.fit(x_train.to_numpy(dtype=np.float), y_train).predict(x_val.to_numpy(dtype=np.float))\n",
        "    y_pred = np.argmax(y_prob, axis=-1)\n",
        "    for i in range(len(y_pred)):\n",
        "        if y_pred[i] == 0:\n",
        "            y_pred[i] = 2\n",
        "        else:\n",
        "            y_pred[i] = 4\n",
        "    accuracy = np.sum(y_pred == y_val) / y_val.shape[0]\n",
        "    # print(f'accuracy is {accuracy * 100:.1f}.')\n",
        "    return accuracy"
      ],
      "execution_count": 7,
      "outputs": []
    },
    {
      "cell_type": "code",
      "metadata": {
        "colab": {
          "base_uri": "https://localhost:8080/",
          "height": 283
        },
        "id": "8ViUnbOWoioG",
        "outputId": "d17b2e06-351b-442f-8957-60617b197a30"
      },
      "source": [
        "K_list = range(1,30)\n",
        "err_valid = []\n",
        "for K in K_list:\n",
        "    err_valid.append(evaluate_acc_val(K))\n",
        "    \n",
        "plt.plot(K_list, err_valid, label='valid')\n",
        "\n",
        "plt.legend()\n",
        "plt.xlabel('K (number of neighbours)')\n",
        "plt.ylabel('Validation set accuarcy')\n",
        "plt.ylim(0.8, 1)\n",
        "plt.show()"
      ],
      "execution_count": 8,
      "outputs": [
        {
          "output_type": "display_data",
          "data": {
            "image/png": "[encoded data removed]",
            "text/plain": [
              "<Figure size 432x288 with 1 Axes>"
            ]
          },
          "metadata": {
            "tags": [],
            "needs_background": "light"
          }
        }
      ]
    },
    {
      "cell_type": "code",
      "metadata": {
        "colab": {
          "base_uri": "https://localhost:8080/"
        },
        "id": "_GeA5K20oioH",
        "outputId": "cd80cbf0-78b0-44d2-d45a-d0f822b036d3"
      },
      "source": [
        "accuracy = evaluate_acc(3)"
      ],
      "execution_count": 9,
      "outputs": [
        {
          "output_type": "stream",
          "text": [
            "accuracy is 96.1.\n"
          ],
          "name": "stdout"
        }
      ]
    },
    {
      "cell_type": "markdown",
      "metadata": {
        "id": "-w6v4h2NEaTV"
      },
      "source": [
        "## Decision tree"
      ]
    },
    {
      "cell_type": "code",
      "metadata": {
        "id": "JT7FjodLEcBl"
      },
      "source": [
        "class Node:\n",
        "    def __init__(self, data_indices, parent):\n",
        "        self.data_indices = data_indices                    #stores the data indices which are in the region defined by this node\n",
        "        self.left = None                                    #stores the left child of the node \n",
        "        self.right = None                                   #stores the right child of the node\n",
        "        self.split_feature = None                           #the feature for split at this node\n",
        "        self.split_value = None                             #the value of the feature for split at this node\n",
        "        if parent:\n",
        "            self.depth = parent.depth + 1                   #obtain the dept of the node by adding one to dept of the parent \n",
        "            self.num_classes = parent.num_classes           #copies the num classes from the parent \n",
        "            self.data = parent.data                         #copies the data from the parent\n",
        "            self.labels = parent.labels                     #copies the labels from the parent\n",
        "            class_prob = np.bincount(self.labels[data_indices], minlength=self.num_classes) #this is counting frequency of different labels in the region defined by this node\n",
        "            self.class_prob = class_prob / np.sum(class_prob)  #stores the class probability for the node\n",
        "            #note that we'll use the class probabilites of the leaf nodes for making predictions after the tree is built"
      ],
      "execution_count": 10,
      "outputs": []
    },
    {
      "cell_type": "code",
      "metadata": {
        "id": "054oFQRGElqY"
      },
      "source": [
        "def greedy_test(node, cost_fn):\n",
        "    if type(node.data) != np.ndarray:\n",
        "        node.data = node.data.to_numpy(dtype=np.int16)\n",
        "    #initialize the best parameter values\n",
        "    best_cost = np.inf\n",
        "    best_feature, best_value = None, None\n",
        "    num_instances, num_features = node.data.shape\n",
        "    #sort the features to get the test value candidates by taking the average of consecutive sorted feature values \n",
        "    data_sorted = np.sort(node.data[node.data_indices],axis=0)\n",
        "    test_candidates = (data_sorted[1:] + data_sorted[:-1]) / 2.\n",
        "    for f in range(num_features):\n",
        "        #stores the data corresponding to the f-th feature\n",
        "        data_f = node.data[node.data_indices, f]\n",
        "        for test in test_candidates[:,f]:\n",
        "            #Split the indices using the test value of f-th feature\n",
        "            left_indices = node.data_indices[data_f <= test]\n",
        "            right_indices = node.data_indices[data_f > test]\n",
        "            #we can't have a split where a child has zero element\n",
        "            #if this is true over all the test features and their test values  then the function returns the best cost as infinity\n",
        "            if len(left_indices) == 0 or len(right_indices) == 0:                \n",
        "                continue\n",
        "            #compute the left and right cost based on the current split                                                         \n",
        "            left_cost = cost_fn(node.labels[left_indices])\n",
        "            right_cost = cost_fn(node.labels[right_indices])\n",
        "            num_left, num_right = left_indices.shape[0], right_indices.shape[0]\n",
        "            #get the combined cost using the weighted sum of left and right cost\n",
        "            cost = (num_left * left_cost + num_right * right_cost)/num_instances\n",
        "            #update only when a lower cost is encountered\n",
        "            if cost < best_cost:\n",
        "                best_cost = cost\n",
        "                best_feature = f\n",
        "                best_value = test\n",
        "    return best_cost, best_feature, best_value"
      ],
      "execution_count": 11,
      "outputs": []
    },
    {
      "cell_type": "code",
      "metadata": {
        "id": "qd3pktrxFGfQ"
      },
      "source": [
        "#computes misclassification cost by subtracting the maximum probability of any class\n",
        "def cost_misclassification(labels):\n",
        "    counts = np.bincount(labels) \n",
        "    class_probs = counts / np.sum(counts)\n",
        "    #you could compress both the steps above by doing class_probs = np.bincount(labels) / len(labels)\n",
        "    return 1 - np.max(class_probs)\n",
        "\n",
        "#computes entropy of the labels by computing the class probabilities\n",
        "def cost_entropy(labels):\n",
        "    class_probs = np.bincount(labels) / len(labels)\n",
        "    class_probs = class_probs[class_probs > 0]              #this steps is remove 0 probabilities for removing numerical issues while computing log\n",
        "    return -np.sum(class_probs * np.log(class_probs))       #expression for entropy -\\sigma p(x)log[p(x)]\n",
        "\n",
        "#computes the gini index cost\n",
        "def cost_gini_index(labels):\n",
        "    class_probs = np.bincount(labels) / len(labels)\n",
        "    return 1 - np.sum(np.square(class_probs))               #expression for gini index 1-\\sigma p(x)^2"
      ],
      "execution_count": 12,
      "outputs": []
    },
    {
      "cell_type": "code",
      "metadata": {
        "id": "0Gi_hNaAImtY"
      },
      "source": [
        "class DecisionTree:\n",
        "    def __init__(self, num_classes=None, max_depth=3, cost_fn=cost_misclassification, min_leaf_instances=1):\n",
        "        self.max_depth = max_depth      #maximum dept for termination \n",
        "        self.root = None                #stores the root of the decision tree \n",
        "        self.cost_fn = cost_fn          #stores the cost function of the decision tree \n",
        "        self.num_classes = num_classes  #stores the total number of classes\n",
        "        self.min_leaf_instances = min_leaf_instances  #minimum number of instances in a leaf for termination\n",
        "        \n",
        "    def fit(self, data, labels):\n",
        "        pass                            #pass in python 3 means nothing happens and the method here is empty\n",
        "    \n",
        "    def predict(self, data_test):\n",
        "        pass"
      ],
      "execution_count": 13,
      "outputs": []
    },
    {
      "cell_type": "code",
      "metadata": {
        "id": "ODj52cfNJLjD"
      },
      "source": [
        "def fit(self, data, labels):\n",
        "    self.data = data\n",
        "    self.labels = labels\n",
        "    if self.num_classes is None:\n",
        "        self.num_classes = np.max(labels) + 1\n",
        "    #below are initialization of the root of the decision tree\n",
        "    self.root = Node(np.arange(data.shape[0]), None)\n",
        "    self.root.data = data\n",
        "    self.root.labels = labels\n",
        "    self.root.num_classes = self.num_classes\n",
        "    self.root.depth = 0\n",
        "    #to recursively build the rest of the tree\n",
        "    self._fit_tree(self.root)\n",
        "    return self\n",
        "\n",
        "def _fit_tree(self, node):\n",
        "    #This gives the condition for termination of the recursion resulting in a leaf node\n",
        "    if node.depth == self.max_depth or len(node.data_indices) <= self.min_leaf_instances:\n",
        "        return\n",
        "    #greedily select the best test by minimizing the cost\n",
        "    cost, split_feature, split_value = greedy_test(node, self.cost_fn)\n",
        "    #if the cost returned is infinity it means that it is not possible to split the node and hence terminate\n",
        "    if np.isinf(cost):\n",
        "        return\n",
        "    #print(f'best feature: {split_feature}, value {split_value}, cost {cost}')\n",
        "    #to get a boolean array suggesting which data indices corresponding to this node are in the left of the split\n",
        "    test = node.data[node.data_indices,split_feature] <= split_value\n",
        "    #store the split feature and value of the node\n",
        "    node.split_feature = split_feature\n",
        "    node.split_value = split_value\n",
        "    #define new nodes which are going to be the left and right child of the present node\n",
        "    left = Node(node.data_indices[test], node)\n",
        "    right = Node(node.data_indices[np.logical_not(test)], node)\n",
        "    #recursive call to the _fit_tree()\n",
        "    self._fit_tree(left)\n",
        "    self._fit_tree(right)\n",
        "    #assign the left and right child to present child\n",
        "    node.left = left\n",
        "    node.right = right\n",
        "\n",
        "DecisionTree.fit = fit\n",
        "DecisionTree._fit_tree = _fit_tree"
      ],
      "execution_count": 14,
      "outputs": []
    },
    {
      "cell_type": "code",
      "metadata": {
        "id": "v9VFStJ_JSTL"
      },
      "source": [
        "def predict(self, data_test):\n",
        "    data_test = data_test.to_numpy(dtype=np.int16)\n",
        "    class_probs = np.zeros((data_test.shape[0], self.num_classes))\n",
        "    for n, x in enumerate(data_test):\n",
        "        node = self.root\n",
        "        #loop along the dept of the tree looking region where the present data sample fall in based on the split feature and value\n",
        "        while node.left:\n",
        "            if x[node.split_feature] <= node.split_value:\n",
        "                node = node.left\n",
        "            else:\n",
        "                node = node.right\n",
        "        #the loop terminates when you reach a leaf of the tree and the class probability of that node is taken for prediction\n",
        "        class_probs[n,:] = node.class_prob\n",
        "    return class_probs\n",
        "\n",
        "DecisionTree.predict = predict"
      ],
      "execution_count": 15,
      "outputs": []
    },
    {
      "cell_type": "code",
      "metadata": {
        "colab": {
          "base_uri": "https://localhost:8080/"
        },
        "id": "cNY1sF0zT-jn",
        "outputId": "3e81d013-706d-4126-d689-0ab16dbc4bf7"
      },
      "source": [
        "tree = DecisionTree(max_depth=6)\n",
        "probs_test = tree.fit(x_train, y_train).predict(x_test)\n",
        "y_pred = np.argmax(probs_test,1)\n",
        "accuracy = np.sum(y_pred == y_test)/y_test.shape[0]\n",
        "print(f'accuracy is {accuracy*100:.1f}.')"
      ],
      "execution_count": 16,
      "outputs": [
        {
          "output_type": "stream",
          "text": [
            "accuracy is 96.1.\n"
          ],
          "name": "stdout"
        }
      ]
    },
    {
      "cell_type": "code",
      "metadata": {
        "id": "0mZY5io4qLsB"
      },
      "source": [
        "def evaluate_acc(d):\n",
        "    tree = DecisionTree(max_depth=d)\n",
        "    probs_test = tree.fit(x_train, y_train).predict(x_test)\n",
        "    y_pred = np.argmax(probs_test,1)\n",
        "    accuracy = np.sum(y_pred == y_test)/y_test.shape[0]\n",
        "    print(f'accuracy is {accuracy*100:.1f}.')\n",
        "    return accuracy\n",
        "\n",
        "# #define a function for the MSE loss\n",
        "# loss = lambda y, yh: np.mean((y-yh)**2)\n",
        "\n",
        "# def mse(max_depth):\n",
        "#     tree = DecisionTree(max_depth)\n",
        "#     probs_test = tree.fit(x_train, y_train).predict(x_val)\n",
        "#     y_pred = np.argmax(probs_test,1)\n",
        "#     return loss(y_pred, y_val)\n",
        "\n",
        "def evaluate_acc_val(d):\n",
        "    tree = DecisionTree(max_depth=d)\n",
        "    probs_test = tree.fit(x_train, y_train).predict(x_val)\n",
        "    y_pred = np.argmax(probs_test,1)\n",
        "    accuracy = np.sum(y_pred == y_val)/y_val.shape[0]\n",
        "    # print(f'accuracy is {accuracy*100:.1f}.')\n",
        "    return accuracy"
      ],
      "execution_count": 17,
      "outputs": []
    },
    {
      "cell_type": "code",
      "metadata": {
        "id": "WdlOPnnXqq8Z"
      },
      "source": [
        "depth_list = range(1,30)\n",
        "err_valid = []\n",
        "for d in depth_list:\n",
        "    err_valid.append(evaluate_acc_val(d))\n",
        "    \n",
        "plt.plot(depth_list, err_valid, label='valid')\n",
        "\n",
        "plt.legend()\n",
        "plt.xlabel('Tree depth')\n",
        "plt.ylabel('Validation set accuracy')\n",
        "plt.ylim(0.8, 1)\n",
        "plt.show()"
      ],
      "execution_count": null,
      "outputs": []
    },
    {
      "cell_type": "code",
      "metadata": {
        "id": "tNWIf0mDJXBs"
      },
      "source": [
        "evaluate_acc(6)"
      ],
      "execution_count": null,
      "outputs": []
    },
    {
      "cell_type": "code",
      "metadata": {
        "id": "_hMSbrZua0pA"
      },
      "source": [
        "''' Decision boundary '''\n",
        "y_train2 = np.copy(y_train)\n",
        "for i in range(0, len(y_train2)):\n",
        "    if y_train2[i] == 2:\n",
        "        y_train2[i] = 0\n",
        "    elif y_train2[i] == 4:\n",
        "        y_train2[i] = 1\n",
        "x_all = x\n",
        "model = DecisionTree(max_depth=6)\n",
        "y_train_prob = np.zeros((y_train.shape[0], 2))\n",
        "y_train_prob[np.arange(y_train.shape[0]), y_train2] = 1\n",
        "y_prob_all = model.fit(x_train, y_train).predict(x_all)\n",
        "z = np.zeros((y_train_prob.shape[0],1), dtype=np.int16)\n",
        "y_train_prob2 = np.append(y_train_prob, z, axis=1)\n",
        "plt.scatter(x_train.iloc[:,0], x_train.iloc[:,1], c=y_train_prob2, marker='o', alpha=1)\n",
        "plt.scatter(x_all.iloc[:,0], x_all.iloc[:,1], c=y_prob_all[:, [2, 4, 0]], marker='.', alpha=.01)\n",
        "plt.ylabel('Uniformity of Cell Size')\n",
        "plt.xlabel('Clump thickness')\n",
        "plt.show()"
      ],
      "execution_count": null,
      "outputs": []
    }
  ]
}